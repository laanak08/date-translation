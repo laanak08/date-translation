{
 "cells": [
  {
   "cell_type": "code",
   "execution_count": 6,
   "metadata": {},
   "outputs": [],
   "source": [
    "from datetime import datetime\n",
    "import random\n",
    "from pathlib import Path\n",
    "from typing import Tuple\n",
    "\n",
    "import pandas as pd"
   ]
  },
  {
   "cell_type": "code",
   "execution_count": 66,
   "metadata": {},
   "outputs": [],
   "source": [
    "class DateGenerator:\n",
    "    \"\"\"\n",
    "    Generate a date string dataset with dates in a random string format and the standard format.\n",
    "    \"\"\"\n",
    "\n",
    "    std_format = '%Y-%m-%d'\n",
    "    formats = [\n",
    "        '%Y-%m-%d',\n",
    "        '%d-%m-%Y',\n",
    "        '%m-%d-%Y',\n",
    "\n",
    "        '%Y/%m/%d',\n",
    "        '%d/%m/%Y',\n",
    "        '%m/%d/%Y',\n",
    "\n",
    "        '%b %d, %Y',\n",
    "        '%b %d, %y',\n",
    "        '%B %d, %Y',\n",
    "\n",
    "        '%A %B %d, %Y',  # day of week, full month, day, year\n",
    "        '%A %B %d %Y',\n",
    "\n",
    "        '%b %d %Y',  # abreviated month, day, year\n",
    "        '%b %d %y',\n",
    "\n",
    "        '%B %d %Y',  # full month, day, year\n",
    "        '%B %d %y',\n",
    "        \n",
    "    ]\n",
    "\n",
    "    def random_datetime(self) -> datetime:\n",
    "        \"\"\"Get a random datetime object.\"\"\"\n",
    "        rand_year = random.randint(1401, 2100)\n",
    "        rand_day = random.randint(1, 31)\n",
    "        rand_month = random.randint(1, 12)\n",
    "        try:\n",
    "            return datetime(rand_year, rand_month, rand_day)\n",
    "        except ValueError:\n",
    "            return self.random_datetime()\n",
    "    \n",
    "    def get_sample(self) -> Tuple[str, str]:\n",
    "        \"\"\"\n",
    "        Get a random sample.\n",
    "        Returns the date in (standard_format, random_format)\n",
    "        \"\"\"\n",
    "        date = self.random_datetime()\n",
    "        rand_format = random.choice(self.formats)\n",
    "        std_str = date.strftime(self.std_format)\n",
    "        rand_str = date.strftime(rand_format)\n",
    "        return (std_str, rand_str)\n",
    "    \n",
    "    def generate_df(self, n: int) -> pd.DataFrame:\n",
    "        \"\"\"Generate a df with `n` samples.\"\"\"\n",
    "        return pd.DataFrame(\n",
    "            [self.get_sample() for _ in range(n)],\n",
    "            columns=['output', 'input']\n",
    "        )"
   ]
  },
  {
   "cell_type": "code",
   "execution_count": 67,
   "metadata": {},
   "outputs": [],
   "source": [
    "date_generator = DateGenerator()\n",
    "train_df = date_generator.generate_df(100000)\n",
    "val_df = date_generator.generate_df(10000)\n",
    "test_df = date_generator.generate_df(10000)"
   ]
  },
  {
   "cell_type": "code",
   "execution_count": 68,
   "metadata": {},
   "outputs": [],
   "source": [
    "_DATA_PATH = Path('../data')\n",
    "_RAW_PATH = _DATA_PATH / 'raw'\n",
    "if not _RAW_PATH.exists():\n",
    "    _RAW_PATH.mkdir(parents=True)\n",
    "\n",
    "train_df.to_csv(_RAW_PATH / 'train.csv', index=False)\n",
    "val_df.to_csv(_RAW_PATH / 'valid.csv', index=False)\n",
    "test_df.to_csv(_RAW_PATH / 'test.csv', index=False)"
   ]
  },
  {
   "cell_type": "code",
   "execution_count": null,
   "metadata": {},
   "outputs": [],
   "source": []
  }
 ],
 "metadata": {
  "kernelspec": {
   "display_name": "Python 3",
   "language": "python",
   "name": "python3"
  },
  "language_info": {
   "codemirror_mode": {
    "name": "ipython",
    "version": 3
   },
   "file_extension": ".py",
   "mimetype": "text/x-python",
   "name": "python",
   "nbconvert_exporter": "python",
   "pygments_lexer": "ipython3",
   "version": "3.7.6"
  }
 },
 "nbformat": 4,
 "nbformat_minor": 4
}
