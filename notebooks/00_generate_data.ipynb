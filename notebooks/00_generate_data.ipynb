{
 "cells": [
  {
   "cell_type": "code",
   "execution_count": 2,
   "metadata": {},
   "outputs": [],
   "source": [
    "from datetime import datetime\n",
    "import random\n",
    "from pathlib import Path\n",
    "from typing import Tuple\n",
    "\n",
    "import pandas as pd"
   ]
  },
  {
   "cell_type": "code",
   "execution_count": 12,
   "metadata": {},
   "outputs": [],
   "source": [
    "class DateGenerator:\n",
    "    \"\"\"\n",
    "    Generate a date string dataset with dates in a random string format and the standard format.\n",
    "    \"\"\"\n",
    "\n",
    "    std_format = '%Y-%m-%d'\n",
    "    formats = [\n",
    "        '%Y-%-m-%-d',\n",
    "        '%-d-%-m-%Y',\n",
    "        '%-m-%-d-%Y',\n",
    "\n",
    "        '%Y/%-m/%-d',\n",
    "        '%-d/%-m/%Y',\n",
    "        '%-m/%-d/%Y',\n",
    "\n",
    "        '%b %-d, %Y',\n",
    "        '%b %-d, %y',\n",
    "        '%B %-d, %Y',\n",
    "\n",
    "        '%A %B %-d, %Y',  # day of week, full month, day, year\n",
    "        '%A %B %-d %Y',\n",
    "\n",
    "        '%b %-d %Y',  # abreviated month, day, year\n",
    "\n",
    "        '%B %-d %Y',  # full month, day, year\n",
    "        \n",
    "    ]\n",
    "\n",
    "    def random_datetime(self) -> datetime:\n",
    "        \"\"\"Get a random datetime object.\"\"\"\n",
    "        rand_year = random.randint(1401, 2100)\n",
    "        rand_day = random.randint(1, 31)\n",
    "        rand_month = random.randint(1, 12)\n",
    "        try:\n",
    "            return datetime(rand_year, rand_month, rand_day)\n",
    "        except ValueError:\n",
    "            return self.random_datetime()\n",
    "    \n",
    "    def get_sample(self) -> Tuple[str, str]:\n",
    "        \"\"\"\n",
    "        Get a random sample.\n",
    "        Returns the date in (standard_format, random_format, format_index)\n",
    "        \"\"\"\n",
    "        date = self.random_datetime()\n",
    "        rand_format = random.choice(self.formats)\n",
    "        format_index = self.formats.index(rand_format)\n",
    "        std_str = date.strftime(self.std_format)\n",
    "        rand_str = date.strftime(rand_format)\n",
    "        return (std_str, rand_str, format_index)\n",
    "    \n",
    "    def generate_df(self, n: int) -> pd.DataFrame:\n",
    "        \"\"\"Generate a df with `n` samples.\"\"\"\n",
    "        return pd.DataFrame(\n",
    "            [self.get_sample() for _ in range(n)],\n",
    "            columns=['output', 'input', 'format']\n",
    "        )"
   ]
  },
  {
   "cell_type": "code",
   "execution_count": 13,
   "metadata": {},
   "outputs": [],
   "source": [
    "date_generator = DateGenerator()\n",
    "train_df = date_generator.generate_df(100000)\n",
    "val_df = date_generator.generate_df(10000)\n",
    "test_df = date_generator.generate_df(10000)"
   ]
  },
  {
   "cell_type": "code",
   "execution_count": 14,
   "metadata": {},
   "outputs": [],
   "source": [
    "_DATA_PATH = Path('../data')\n",
    "_RAW_PATH = _DATA_PATH / 'raw'\n",
    "if not _RAW_PATH.exists():\n",
    "    _RAW_PATH.mkdir(parents=True)\n",
    "\n",
    "train_df.to_csv(_RAW_PATH / 'train.csv', index=False)\n",
    "val_df.to_csv(_RAW_PATH / 'valid.csv', index=False)\n",
    "test_df.to_csv(_RAW_PATH / 'test.csv', index=False)"
   ]
  },
  {
   "cell_type": "code",
   "execution_count": 15,
   "metadata": {},
   "outputs": [
    {
     "data": {
      "text/html": [
       "<div>\n",
       "<style scoped>\n",
       "    .dataframe tbody tr th:only-of-type {\n",
       "        vertical-align: middle;\n",
       "    }\n",
       "\n",
       "    .dataframe tbody tr th {\n",
       "        vertical-align: top;\n",
       "    }\n",
       "\n",
       "    .dataframe thead th {\n",
       "        text-align: right;\n",
       "    }\n",
       "</style>\n",
       "<table border=\"1\" class=\"dataframe\">\n",
       "  <thead>\n",
       "    <tr style=\"text-align: right;\">\n",
       "      <th></th>\n",
       "      <th>output</th>\n",
       "      <th>input</th>\n",
       "      <th>format</th>\n",
       "    </tr>\n",
       "  </thead>\n",
       "  <tbody>\n",
       "    <tr>\n",
       "      <th>39698</th>\n",
       "      <td>1769-03-13</td>\n",
       "      <td>3/13/1769</td>\n",
       "      <td>5</td>\n",
       "    </tr>\n",
       "    <tr>\n",
       "      <th>63598</th>\n",
       "      <td>2017-06-11</td>\n",
       "      <td>11-6-2017</td>\n",
       "      <td>1</td>\n",
       "    </tr>\n",
       "    <tr>\n",
       "      <th>11101</th>\n",
       "      <td>1688-07-28</td>\n",
       "      <td>Wednesday July 28, 1688</td>\n",
       "      <td>9</td>\n",
       "    </tr>\n",
       "    <tr>\n",
       "      <th>76356</th>\n",
       "      <td>1683-01-31</td>\n",
       "      <td>1683/1/31</td>\n",
       "      <td>3</td>\n",
       "    </tr>\n",
       "    <tr>\n",
       "      <th>12084</th>\n",
       "      <td>1920-01-12</td>\n",
       "      <td>1920-1-12</td>\n",
       "      <td>0</td>\n",
       "    </tr>\n",
       "    <tr>\n",
       "      <th>32016</th>\n",
       "      <td>1613-04-10</td>\n",
       "      <td>10/4/1613</td>\n",
       "      <td>4</td>\n",
       "    </tr>\n",
       "    <tr>\n",
       "      <th>83998</th>\n",
       "      <td>1500-01-05</td>\n",
       "      <td>1500/1/5</td>\n",
       "      <td>3</td>\n",
       "    </tr>\n",
       "    <tr>\n",
       "      <th>21520</th>\n",
       "      <td>1427-03-02</td>\n",
       "      <td>3-2-1427</td>\n",
       "      <td>2</td>\n",
       "    </tr>\n",
       "    <tr>\n",
       "      <th>49364</th>\n",
       "      <td>1864-10-07</td>\n",
       "      <td>Oct 7, 1864</td>\n",
       "      <td>6</td>\n",
       "    </tr>\n",
       "    <tr>\n",
       "      <th>1229</th>\n",
       "      <td>1994-08-31</td>\n",
       "      <td>1994/8/31</td>\n",
       "      <td>3</td>\n",
       "    </tr>\n",
       "  </tbody>\n",
       "</table>\n",
       "</div>"
      ],
      "text/plain": [
       "           output                    input  format\n",
       "39698  1769-03-13                3/13/1769       5\n",
       "63598  2017-06-11                11-6-2017       1\n",
       "11101  1688-07-28  Wednesday July 28, 1688       9\n",
       "76356  1683-01-31                1683/1/31       3\n",
       "12084  1920-01-12                1920-1-12       0\n",
       "32016  1613-04-10                10/4/1613       4\n",
       "83998  1500-01-05                 1500/1/5       3\n",
       "21520  1427-03-02                 3-2-1427       2\n",
       "49364  1864-10-07              Oct 7, 1864       6\n",
       "1229   1994-08-31                1994/8/31       3"
      ]
     },
     "execution_count": 15,
     "metadata": {},
     "output_type": "execute_result"
    }
   ],
   "source": [
    "train_df.sample(10)"
   ]
  },
  {
   "cell_type": "code",
   "execution_count": 11,
   "metadata": {},
   "outputs": [
    {
     "data": {
      "text/plain": [
       "count    100000.000000\n",
       "mean         12.274350\n",
       "std           4.917943\n",
       "min           8.000000\n",
       "25%           9.000000\n",
       "50%          10.000000\n",
       "75%          14.000000\n",
       "max          28.000000\n",
       "Name: input, dtype: float64"
      ]
     },
     "execution_count": 11,
     "metadata": {},
     "output_type": "execute_result"
    }
   ],
   "source": [
    "train_df.input.apply(len).describe()"
   ]
  },
  {
   "cell_type": "code",
   "execution_count": null,
   "metadata": {},
   "outputs": [],
   "source": []
  }
 ],
 "metadata": {
  "kernelspec": {
   "display_name": "Python 3",
   "language": "python",
   "name": "python3"
  },
  "language_info": {
   "codemirror_mode": {
    "name": "ipython",
    "version": 3
   },
   "file_extension": ".py",
   "mimetype": "text/x-python",
   "name": "python",
   "nbconvert_exporter": "python",
   "pygments_lexer": "ipython3",
   "version": "3.7.6"
  }
 },
 "nbformat": 4,
 "nbformat_minor": 4
}
