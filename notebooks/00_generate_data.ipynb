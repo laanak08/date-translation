{
 "cells": [
  {
   "cell_type": "code",
   "execution_count": 2,
   "metadata": {},
   "outputs": [],
   "source": [
    "from datetime import datetime\n",
    "import random\n",
    "from pathlib import Path\n",
    "from typing import Tuple\n",
    "\n",
    "import pandas as pd"
   ]
  },
  {
   "cell_type": "code",
   "execution_count": 7,
   "metadata": {},
   "outputs": [],
   "source": [
    "class DateGenerator:\n",
    "    \"\"\"\n",
    "    Generate a date string dataset with dates in a random string format and the standard format.\n",
    "    \"\"\"\n",
    "\n",
    "    std_format = '%Y-%m-%d'\n",
    "    formats = [\n",
    "        '%Y-%-m-%-d',\n",
    "        '%-d-%-m-%Y',\n",
    "        '%-m-%-d-%Y',\n",
    "\n",
    "        '%Y/%-m/%-d',\n",
    "        '%-d/%-m/%Y',\n",
    "        '%-m/%-d/%Y',\n",
    "\n",
    "        '%b %-d, %Y',\n",
    "        '%b %-d, %y',\n",
    "        '%B %-d, %Y',\n",
    "\n",
    "        '%A %B %-d, %Y',  # day of week, full month, day, year\n",
    "        '%A %B %-d %Y',\n",
    "\n",
    "        '%b %-d %Y',  # abreviated month, day, year\n",
    "\n",
    "        '%B %-d %Y',  # full month, day, year\n",
    "        \n",
    "    ]\n",
    "\n",
    "    def random_datetime(self) -> datetime:\n",
    "        \"\"\"Get a random datetime object.\"\"\"\n",
    "        rand_year = random.randint(1401, 2100)\n",
    "        rand_day = random.randint(1, 31)\n",
    "        rand_month = random.randint(1, 12)\n",
    "        try:\n",
    "            return datetime(rand_year, rand_month, rand_day)\n",
    "        except ValueError:\n",
    "            return self.random_datetime()\n",
    "    \n",
    "    def get_sample(self) -> Tuple[str, str]:\n",
    "        \"\"\"\n",
    "        Get a random sample.\n",
    "        Returns the date in (standard_format, random_format)\n",
    "        \"\"\"\n",
    "        date = self.random_datetime()\n",
    "        rand_format = random.choice(self.formats)\n",
    "        std_str = date.strftime(self.std_format)\n",
    "        rand_str = date.strftime(rand_format)\n",
    "        return (std_str, rand_str)\n",
    "    \n",
    "    def generate_df(self, n: int) -> pd.DataFrame:\n",
    "        \"\"\"Generate a df with `n` samples.\"\"\"\n",
    "        return pd.DataFrame(\n",
    "            [self.get_sample() for _ in range(n)],\n",
    "            columns=['output', 'input']\n",
    "        )"
   ]
  },
  {
   "cell_type": "code",
   "execution_count": 8,
   "metadata": {},
   "outputs": [],
   "source": [
    "date_generator = DateGenerator()\n",
    "train_df = date_generator.generate_df(100000)\n",
    "val_df = date_generator.generate_df(10000)\n",
    "test_df = date_generator.generate_df(10000)"
   ]
  },
  {
   "cell_type": "code",
   "execution_count": 9,
   "metadata": {},
   "outputs": [],
   "source": [
    "_DATA_PATH = Path('../data')\n",
    "_RAW_PATH = _DATA_PATH / 'raw'\n",
    "if not _RAW_PATH.exists():\n",
    "    _RAW_PATH.mkdir(parents=True)\n",
    "\n",
    "train_df.to_csv(_RAW_PATH / 'train.csv', index=False)\n",
    "val_df.to_csv(_RAW_PATH / 'valid.csv', index=False)\n",
    "test_df.to_csv(_RAW_PATH / 'test.csv', index=False)"
   ]
  },
  {
   "cell_type": "code",
   "execution_count": 10,
   "metadata": {},
   "outputs": [
    {
     "data": {
      "text/html": [
       "<div>\n",
       "<style scoped>\n",
       "    .dataframe tbody tr th:only-of-type {\n",
       "        vertical-align: middle;\n",
       "    }\n",
       "\n",
       "    .dataframe tbody tr th {\n",
       "        vertical-align: top;\n",
       "    }\n",
       "\n",
       "    .dataframe thead th {\n",
       "        text-align: right;\n",
       "    }\n",
       "</style>\n",
       "<table border=\"1\" class=\"dataframe\">\n",
       "  <thead>\n",
       "    <tr style=\"text-align: right;\">\n",
       "      <th></th>\n",
       "      <th>output</th>\n",
       "      <th>input</th>\n",
       "    </tr>\n",
       "  </thead>\n",
       "  <tbody>\n",
       "    <tr>\n",
       "      <th>31627</th>\n",
       "      <td>1886-11-17</td>\n",
       "      <td>Nov 17 1886</td>\n",
       "    </tr>\n",
       "    <tr>\n",
       "      <th>146</th>\n",
       "      <td>1888-03-14</td>\n",
       "      <td>Mar 14, 88</td>\n",
       "    </tr>\n",
       "    <tr>\n",
       "      <th>92956</th>\n",
       "      <td>1707-06-24</td>\n",
       "      <td>Friday June 24 1707</td>\n",
       "    </tr>\n",
       "    <tr>\n",
       "      <th>64794</th>\n",
       "      <td>1856-11-12</td>\n",
       "      <td>November 12, 1856</td>\n",
       "    </tr>\n",
       "    <tr>\n",
       "      <th>80943</th>\n",
       "      <td>1579-12-20</td>\n",
       "      <td>1579/12/20</td>\n",
       "    </tr>\n",
       "    <tr>\n",
       "      <th>86087</th>\n",
       "      <td>1679-11-26</td>\n",
       "      <td>11/26/1679</td>\n",
       "    </tr>\n",
       "    <tr>\n",
       "      <th>44971</th>\n",
       "      <td>1732-07-15</td>\n",
       "      <td>Tuesday July 15 1732</td>\n",
       "    </tr>\n",
       "    <tr>\n",
       "      <th>42342</th>\n",
       "      <td>1783-07-08</td>\n",
       "      <td>Jul 8, 83</td>\n",
       "    </tr>\n",
       "    <tr>\n",
       "      <th>90278</th>\n",
       "      <td>1757-06-23</td>\n",
       "      <td>Jun 23, 1757</td>\n",
       "    </tr>\n",
       "    <tr>\n",
       "      <th>56959</th>\n",
       "      <td>1985-06-30</td>\n",
       "      <td>Jun 30, 85</td>\n",
       "    </tr>\n",
       "  </tbody>\n",
       "</table>\n",
       "</div>"
      ],
      "text/plain": [
       "           output                 input\n",
       "31627  1886-11-17           Nov 17 1886\n",
       "146    1888-03-14            Mar 14, 88\n",
       "92956  1707-06-24   Friday June 24 1707\n",
       "64794  1856-11-12     November 12, 1856\n",
       "80943  1579-12-20            1579/12/20\n",
       "86087  1679-11-26            11/26/1679\n",
       "44971  1732-07-15  Tuesday July 15 1732\n",
       "42342  1783-07-08             Jul 8, 83\n",
       "90278  1757-06-23          Jun 23, 1757\n",
       "56959  1985-06-30            Jun 30, 85"
      ]
     },
     "execution_count": 10,
     "metadata": {},
     "output_type": "execute_result"
    }
   ],
   "source": [
    "train_df.sample(10)\n"
   ]
  },
  {
   "cell_type": "code",
   "execution_count": 11,
   "metadata": {},
   "outputs": [
    {
     "data": {
      "text/plain": [
       "count    100000.000000\n",
       "mean         12.274350\n",
       "std           4.917943\n",
       "min           8.000000\n",
       "25%           9.000000\n",
       "50%          10.000000\n",
       "75%          14.000000\n",
       "max          28.000000\n",
       "Name: input, dtype: float64"
      ]
     },
     "execution_count": 11,
     "metadata": {},
     "output_type": "execute_result"
    }
   ],
   "source": [
    "train_df.input.apply(len).describe()"
   ]
  },
  {
   "cell_type": "code",
   "execution_count": null,
   "metadata": {},
   "outputs": [],
   "source": []
  }
 ],
 "metadata": {
  "kernelspec": {
   "display_name": "Python 3",
   "language": "python",
   "name": "python3"
  },
  "language_info": {
   "codemirror_mode": {
    "name": "ipython",
    "version": 3
   },
   "file_extension": ".py",
   "mimetype": "text/x-python",
   "name": "python",
   "nbconvert_exporter": "python",
   "pygments_lexer": "ipython3",
   "version": "3.7.6"
  }
 },
 "nbformat": 4,
 "nbformat_minor": 4
}
