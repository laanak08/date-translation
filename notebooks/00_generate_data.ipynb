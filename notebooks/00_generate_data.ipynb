{
 "cells": [
  {
   "cell_type": "code",
   "execution_count": 1,
   "metadata": {},
   "outputs": [],
   "source": [
    "from datetime import datetime\n",
    "import random\n",
    "from pathlib import Path\n",
    "from typing import Tuple\n",
    "\n",
    "import pandas as pd"
   ]
  },
  {
   "cell_type": "code",
   "execution_count": 2,
   "metadata": {},
   "outputs": [],
   "source": [
    "class DateGenerator:\n",
    "    \"\"\"\n",
    "    Generate a date string dataset with dates in a random string format and the standard format.\n",
    "    \"\"\"\n",
    "\n",
    "    std_format = '%Y-%m-%d'\n",
    "    formats = [\n",
    "        '%Y-%-m-%-d',\n",
    "        '%-d-%-m-%Y',\n",
    "        '%-m-%-d-%Y',\n",
    "\n",
    "        '%Y/%-m/%-d',\n",
    "        '%-d/%-m/%Y',\n",
    "        '%-m/%-d/%Y',\n",
    "\n",
    "        '%b %-d, %Y',\n",
    "        '%b %-d, %y',\n",
    "        '%B %-d, %Y',\n",
    "\n",
    "        '%A %B %-d, %Y',  # day of week, full month, day, year\n",
    "        '%A %B %-d %Y',\n",
    "\n",
    "        '%b %-d %Y',  # abreviated month, day, year\n",
    "\n",
    "        '%B %-d %Y',  # full month, day, year\n",
    "        \n",
    "    ]\n",
    "\n",
    "    def random_datetime(self) -> datetime:\n",
    "        \"\"\"Get a random datetime object.\"\"\"\n",
    "        rand_year = random.randint(1401, 2100)\n",
    "        rand_day = random.randint(1, 31)\n",
    "        rand_month = random.randint(1, 12)\n",
    "        try:\n",
    "            return datetime(rand_year, rand_month, rand_day)\n",
    "        except ValueError:\n",
    "            return self.random_datetime()\n",
    "    \n",
    "    def get_sample(self) -> Tuple[str, str]:\n",
    "        \"\"\"\n",
    "        Get a random sample.\n",
    "        Returns the date in (standard_format, random_format, format_index)\n",
    "        \"\"\"\n",
    "        date = self.random_datetime()\n",
    "        rand_format = random.choice(self.formats)\n",
    "        format_index = self.formats.index(rand_format)\n",
    "        std_str = date.strftime(self.std_format)\n",
    "        rand_str = date.strftime(rand_format)\n",
    "        return (std_str, rand_str, format_index)\n",
    "    \n",
    "    def generate_df(self, n: int) -> pd.DataFrame:\n",
    "        \"\"\"Generate a df with `n` samples.\"\"\"\n",
    "        return pd.DataFrame(\n",
    "            [self.get_sample() for _ in range(n)],\n",
    "            columns=['output', 'input', 'format']\n",
    "        )"
   ]
  },
  {
   "cell_type": "code",
   "execution_count": 3,
   "metadata": {},
   "outputs": [],
   "source": [
    "date_generator = DateGenerator()\n",
    "train_df = date_generator.generate_df(100000)\n",
    "val_df = date_generator.generate_df(10000)\n",
    "test_df = date_generator.generate_df(10000)"
   ]
  },
  {
   "cell_type": "code",
   "execution_count": 4,
   "metadata": {},
   "outputs": [],
   "source": [
    "_DATA_PATH = Path('../data')\n",
    "_RAW_PATH = _DATA_PATH / 'raw'\n",
    "if not _RAW_PATH.exists():\n",
    "    _RAW_PATH.mkdir(parents=True)\n",
    "\n",
    "train_df.to_csv(_RAW_PATH / 'train.csv', index=False)\n",
    "val_df.to_csv(_RAW_PATH / 'valid.csv', index=False)\n",
    "test_df.to_csv(_RAW_PATH / 'test.csv', index=False)"
   ]
  },
  {
   "cell_type": "code",
   "execution_count": 5,
   "metadata": {},
   "outputs": [
    {
     "data": {
      "text/html": [
       "<div>\n",
       "<style scoped>\n",
       "    .dataframe tbody tr th:only-of-type {\n",
       "        vertical-align: middle;\n",
       "    }\n",
       "\n",
       "    .dataframe tbody tr th {\n",
       "        vertical-align: top;\n",
       "    }\n",
       "\n",
       "    .dataframe thead th {\n",
       "        text-align: right;\n",
       "    }\n",
       "</style>\n",
       "<table border=\"1\" class=\"dataframe\">\n",
       "  <thead>\n",
       "    <tr style=\"text-align: right;\">\n",
       "      <th></th>\n",
       "      <th>output</th>\n",
       "      <th>input</th>\n",
       "      <th>format</th>\n",
       "    </tr>\n",
       "  </thead>\n",
       "  <tbody>\n",
       "    <tr>\n",
       "      <th>70784</th>\n",
       "      <td>1849-04-09</td>\n",
       "      <td>Apr 9, 1849</td>\n",
       "      <td>6</td>\n",
       "    </tr>\n",
       "    <tr>\n",
       "      <th>90435</th>\n",
       "      <td>1576-12-11</td>\n",
       "      <td>12/11/1576</td>\n",
       "      <td>5</td>\n",
       "    </tr>\n",
       "    <tr>\n",
       "      <th>30262</th>\n",
       "      <td>1765-05-17</td>\n",
       "      <td>5-17-1765</td>\n",
       "      <td>2</td>\n",
       "    </tr>\n",
       "    <tr>\n",
       "      <th>58601</th>\n",
       "      <td>2031-05-26</td>\n",
       "      <td>May 26 2031</td>\n",
       "      <td>12</td>\n",
       "    </tr>\n",
       "    <tr>\n",
       "      <th>39221</th>\n",
       "      <td>1549-12-18</td>\n",
       "      <td>1549/12/18</td>\n",
       "      <td>3</td>\n",
       "    </tr>\n",
       "    <tr>\n",
       "      <th>2242</th>\n",
       "      <td>1514-07-23</td>\n",
       "      <td>Jul 23 1514</td>\n",
       "      <td>11</td>\n",
       "    </tr>\n",
       "    <tr>\n",
       "      <th>1550</th>\n",
       "      <td>1650-09-26</td>\n",
       "      <td>9/26/1650</td>\n",
       "      <td>5</td>\n",
       "    </tr>\n",
       "    <tr>\n",
       "      <th>1491</th>\n",
       "      <td>1466-12-01</td>\n",
       "      <td>1466/12/1</td>\n",
       "      <td>3</td>\n",
       "    </tr>\n",
       "    <tr>\n",
       "      <th>78931</th>\n",
       "      <td>1953-06-12</td>\n",
       "      <td>Friday June 12 1953</td>\n",
       "      <td>10</td>\n",
       "    </tr>\n",
       "    <tr>\n",
       "      <th>30127</th>\n",
       "      <td>1509-05-19</td>\n",
       "      <td>19/5/1509</td>\n",
       "      <td>4</td>\n",
       "    </tr>\n",
       "  </tbody>\n",
       "</table>\n",
       "</div>"
      ],
      "text/plain": [
       "           output                input  format\n",
       "70784  1849-04-09          Apr 9, 1849       6\n",
       "90435  1576-12-11           12/11/1576       5\n",
       "30262  1765-05-17            5-17-1765       2\n",
       "58601  2031-05-26          May 26 2031      12\n",
       "39221  1549-12-18           1549/12/18       3\n",
       "2242   1514-07-23          Jul 23 1514      11\n",
       "1550   1650-09-26            9/26/1650       5\n",
       "1491   1466-12-01            1466/12/1       3\n",
       "78931  1953-06-12  Friday June 12 1953      10\n",
       "30127  1509-05-19            19/5/1509       4"
      ]
     },
     "execution_count": 5,
     "metadata": {},
     "output_type": "execute_result"
    }
   ],
   "source": [
    "train_df.sample(10)"
   ]
  },
  {
   "cell_type": "code",
   "execution_count": 6,
   "metadata": {},
   "outputs": [
    {
     "data": {
      "text/plain": [
       "count    100000.00000\n",
       "mean         12.29574\n",
       "std           4.93885\n",
       "min           8.00000\n",
       "25%           9.00000\n",
       "50%          10.00000\n",
       "75%          14.00000\n",
       "max          28.00000\n",
       "Name: input, dtype: float64"
      ]
     },
     "execution_count": 6,
     "metadata": {},
     "output_type": "execute_result"
    }
   ],
   "source": [
    "train_df.input.apply(len).describe()"
   ]
  },
  {
   "cell_type": "code",
   "execution_count": null,
   "metadata": {},
   "outputs": [],
   "source": []
  }
 ],
 "metadata": {
  "kernelspec": {
   "display_name": "Python 3",
   "language": "python",
   "name": "python3"
  },
  "language_info": {
   "codemirror_mode": {
    "name": "ipython",
    "version": 3
   },
   "file_extension": ".py",
   "mimetype": "text/x-python",
   "name": "python",
   "nbconvert_exporter": "python",
   "pygments_lexer": "ipython3",
   "version": "3.7.3"
  }
 },
 "nbformat": 4,
 "nbformat_minor": 4
}
