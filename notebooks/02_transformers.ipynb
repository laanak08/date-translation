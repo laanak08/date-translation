{
 "cells": [
  {
   "cell_type": "markdown",
   "metadata": {},
   "source": [
    "# Transformers\n",
    "\n",
    "https://arxiv.org/pdf/1706.03762.pdf\n",
    "\n",
    "Transformers are an alternative to RNN architectures. The authors state that transformers have higher performance and can be trained faster, since they can be easily parallelized.\n",
    "\n",
    "Here we will use the Transformer architecture to classify dates to the rule they were generated from. While this is not a sequence to sequence task, we will still use the transformer to embed a sequence of text."
   ]
  },
  {
   "cell_type": "markdown",
   "metadata": {},
   "source": [
    "## A primer on the transformer encoder architecture\n",
    "\n",
    "There are a few parts of the transformer to pay attention to. The most important parts are multiheaded attention and self attention. "
   ]
  },
  {
   "cell_type": "markdown",
   "metadata": {},
   "source": [
    "### Multiheaded attention\n",
    "![Multiheaded attention](img/multiheaded.png)\n",
    "See Figure 2 and Section 3.2.2 from the paper, for your reference the figure is provided here. \n",
    "\n",
    "This mechanism is noticably more unique than Luong and Bahdanau's attention mechanisms for 2 reasons.\n",
    "1. The query, key, and value are projected into different vector spaces.\n",
    "2. The standard attention mechanism is duplicated multiple times, hence \"multiheaded attention\".\n",
    "\n",
    "**The following is speculation**\n",
    "1. Having different query, key, and value projections allow the transformer to be more flexible in how and what it learns to focus on. As an example, say we are embedding the sequence \"The brave soul.\". If we were to apply self attention to the word embeddings, our first query would be \"The\" and the keys would be all of the other words. If we did not project the query and key into different spaces, the attention values would heavily weight \"The\" instead of \"brave\" and \"soul\" since \"The\" will have a large dot product with itself and the other words will likely have orthogonal components that will make their dot product with \"The\" smaller. My hypothesis is that without self attention the attention mechanism would not be helpful in providing context specific meanings.\n",
    "2. One weakness of Luong and Badanhau attention, which may actually be a strength in NMT, is that each query can only focus on one-ish key. This is due to the softmax activation. Here it is possible to focus on multiple keys since we are taking multiple softmaxs."
   ]
  },
  {
   "cell_type": "markdown",
   "metadata": {},
   "source": [
    "### Self attention\n",
    "This is the logic in the transformer that allows it to be a replacement for an RNN. Instead of applying the attention mechanism between an encoder and decoder, you allow the encoder to apply attention to itself. This allows for each element in a sequence to be \"aware\" of the context it lives in. For text, this means that each word will have an embedding that reflects its surrounding words. To acheive this all you need to do is feed the same word embeddings as the query, key, and value in the multiheaded attention mechanism.\n",
    "\n",
    "**Implementation note**\n",
    "\n",
    "For modeling text the self attention computation can be very expensive, both in time and memory, since the matrix multiply results in a (batch_size, num_attn_heads, timesteps, timesteps) matrix. "
   ]
  },
  {
   "cell_type": "markdown",
   "metadata": {
    "heading_collapsed": true
   },
   "source": [
    "# 1. Import, load, and define dataset"
   ]
  },
  {
   "cell_type": "code",
   "execution_count": 1,
   "metadata": {
    "hidden": true
   },
   "outputs": [],
   "source": [
    "import os\n",
    "# change this to run on a specific GPU on your machine, indexing starts at 0\n",
    "os.environ['CUDA_VISIBLE_DEVICES'] = '0'"
   ]
  },
  {
   "cell_type": "code",
   "execution_count": 2,
   "metadata": {
    "hidden": true
   },
   "outputs": [],
   "source": [
    "import math\n",
    "import random\n",
    "import string\n",
    "from pathlib import Path\n",
    "from typing import Callable, List, Tuple\n",
    "\n",
    "import ipywidgets as widgets\n",
    "from IPython.display import display, HTML\n",
    "\n",
    "from fastai.basic_data import DataBunch, DatasetType\n",
    "from fastai.metrics import accuracy\n",
    "from fastai.train import Learner\n",
    "from fastprogress import progress_bar\n",
    "import matplotlib.pyplot as plt\n",
    "import numpy as np\n",
    "import pandas as pd\n",
    "\n",
    "import torch\n",
    "import torch.nn as nn\n",
    "import torch.nn.functional as F\n",
    "import torch.optim as optim\n",
    "import torch.utils as utils\n",
    "\n",
    "%matplotlib inline\n",
    "plt.rcParams[\"figure.figsize\"] = [6, 8]"
   ]
  },
  {
   "cell_type": "code",
   "execution_count": 3,
   "metadata": {
    "hidden": true
   },
   "outputs": [],
   "source": [
    "_DATA_PATH = Path('../data')\n",
    "_RAW_PATH = _DATA_PATH / 'raw'"
   ]
  },
  {
   "cell_type": "code",
   "execution_count": 4,
   "metadata": {
    "hidden": true
   },
   "outputs": [],
   "source": [
    "def load_dataframes(raw_path):\n",
    "    df_names = ['train', 'valid', 'test']\n",
    "    dfs = [pd.read_csv(raw_path/f'{df_name}.csv') for df_name in df_names]\n",
    "    return dfs\n",
    "\n",
    "\n",
    "def create_vocab():\n",
    "    tokens = ['<pad>', '<unk>', '<sos>', '<eos>'] + list(string.printable)\n",
    "    tok_to_int = {c: i for i, c in enumerate(tokens)}\n",
    "    int_to_tok = [c for c, i in tok_to_int.items()]\n",
    "    assert tok_to_int['<pad>'] == 0\n",
    "    assert tok_to_int['<unk>'] == 1\n",
    "    assert tok_to_int['<sos>'] == 2\n",
    "    return tok_to_int, int_to_tok\n",
    "\n",
    "def build_text_mapper(tok_to_int: dict) -> Callable:\n",
    "    def mapper(text: str):\n",
    "        return [tok_to_int['<sos>']] + [tok_to_int.get(c, 1) for c in text] + [tok_to_int['<eos>']]\n",
    "    return mapper"
   ]
  },
  {
   "cell_type": "markdown",
   "metadata": {
    "hidden": true
   },
   "source": [
    "### Load data and create character -> int mapping"
   ]
  },
  {
   "cell_type": "code",
   "execution_count": 6,
   "metadata": {
    "hidden": true
   },
   "outputs": [],
   "source": [
    "train_df, valid_df, test_df = load_dataframes(_RAW_PATH)\n",
    "tok_to_int, int_to_tok = create_vocab()"
   ]
  },
  {
   "cell_type": "markdown",
   "metadata": {
    "hidden": true
   },
   "source": [
    "### Define a classification dataset\n",
    "Input: \n",
    "\n",
    "    encoder input: Noisy date text, i.e. `Saturday December 23, 1834`\n",
    "    \n",
    "output: \n",
    "\n",
    "    The integer corresponding to the date format which generated the encoder input.\n",
    "    \n",
    "The following dataset code is specific to pytorch and may seem a bit convoluted. It just maps an integer index to a single training sample, as described above."
   ]
  },
  {
   "cell_type": "code",
   "execution_count": 7,
   "metadata": {
    "hidden": true
   },
   "outputs": [],
   "source": [
    "# the model will see sequences of length 32.\n",
    "# any date shorter than 32 characters will be padded.\n",
    "_MAXLEN = 32\n",
    "\n",
    "class DateDataset(utils.data.Dataset):\n",
    "    \"\"\"\n",
    "    Maps an index to a tuple of (inputs, outputs).\n",
    "    \n",
    "    Example\n",
    "    -------\n",
    "    ds = DateDataset(df, text_mapper)\n",
    "    ds[0]\n",
    "    \"\"\"\n",
    "    def __init__(self, df: pd.DataFrame, text_mapper: Callable) -> None:\n",
    "        self.df = df\n",
    "        self.x_col = 'input'\n",
    "        self.y_col = 'format'\n",
    "        self.maxlen = _MAXLEN\n",
    "        self.pad_val = 0\n",
    "        self.text_mapper = text_mapper\n",
    "        self.c = len(self.df[self.y_col].unique())  # num unique classes\n",
    "        \n",
    "        self._prepare_data()\n",
    "    \n",
    "    def _prepare_data(self):\n",
    "        self.df['encode_text'] = self.df[self.x_col].apply(self.get_tokens, args=('pre',))\n",
    "    \n",
    "    def __getitem__(self, idx: int):\n",
    "        sample = self.df.iloc[idx]\n",
    "        encode_text = sample.encode_text\n",
    "        format_label = torch.LongTensor([sample[self.y_col]])\n",
    "        return {\n",
    "            'encode_text': encode_text,\n",
    "            'output': format_label\n",
    "        }\n",
    "    \n",
    "    def __len__(self) -> int:\n",
    "        return self.df.shape[0]\n",
    "    \n",
    "    def get_tokens(self, text: str, mode: str) -> torch.LongTensor:\n",
    "        if random.random() < 0.5:\n",
    "            text = text.lower()\n",
    "        tokens = self.text_mapper(text)\n",
    "        tokens = self._pad_sequence(tokens, mode)\n",
    "        return torch.LongTensor(tokens)\n",
    "    \n",
    "    def _pad_sequence(self, seq: List, mode: str) -> List:\n",
    "        diff = self.maxlen - len(seq)\n",
    "        if diff < 0:\n",
    "            raise ValueError('Can not pad a sequence longer than maxlen')\n",
    "        if mode == 'pre':\n",
    "            return [self.pad_val] * diff + seq\n",
    "        elif mode == 'post':\n",
    "            return seq + [self.pad_val] * diff\n",
    "        else:\n",
    "            raise ValueError('mode must be pre or post')\n",
    "\n",
    "\n",
    "def collate_batch(batch: List):\n",
    "    \"\"\"Stack each sample together to make a batch.\"\"\"\n",
    "    # text will have shape (B, T)\n",
    "    encode_text = torch.stack([sample['encode_text'] for sample in batch])\n",
    "    # y, needs to be flat to calculate the loss\n",
    "    # y shape = (B*T, )\n",
    "    y = torch.cat([sample['output'] for sample in batch])\n",
    "    return encode_text, y"
   ]
  },
  {
   "cell_type": "code",
   "execution_count": 19,
   "metadata": {
    "hidden": true
   },
   "outputs": [],
   "source": [
    "text_mapper = build_text_mapper(tok_to_int)\n",
    "\n",
    "train_ds = DateDataset(train_df, text_mapper)\n",
    "valid_ds = DateDataset(valid_df, text_mapper)\n",
    "test_ds = DateDataset(test_df, text_mapper)\n",
    "\n",
    "device_str = 'cuda:0' if torch.cuda.is_available() else 'cpu'\n",
    "data = DataBunch.create(train_ds, valid_ds, test_ds, bs=256, collate_fn=collate_batch, device=torch.device(device_str))"
   ]
  },
  {
   "cell_type": "code",
   "execution_count": 23,
   "metadata": {
    "hidden": true
   },
   "outputs": [
    {
     "name": "stdout",
     "output_type": "stream",
     "text": [
      "Batch size: 256\n",
      "X_batch\n",
      "tensor([[ 0,  0,  0,  ..., 11, 13,  3],\n",
      "        [ 0,  0,  0,  ...,  4, 11,  3],\n",
      "        [ 0,  0,  0,  ...,  6, 12,  3],\n",
      "        ...,\n",
      "        [ 0,  0,  0,  ...,  5,  7,  3],\n",
      "        [ 0,  0,  0,  ..., 11,  6,  3],\n",
      "        [ 0,  0,  0,  ...,  6,  8,  3]])\n",
      "Y_batch\n",
      "tensor([ 2,  5, 12,  3,  6,  6,  5,  4,  8, 12,  8,  1,  5, 11,  4,  7,  9, 10,\n",
      "        10,  5, 11, 12, 10,  8,  2,  1,  6,  3,  4,  3,  1,  6,  6,  1,  0, 10,\n",
      "         0, 10,  5,  5,  7, 12,  9, 12,  3, 10,  9,  0,  4,  6, 11,  1,  7, 10,\n",
      "         0, 12,  8,  1, 12, 10,  0,  9, 11,  8,  0,  1,  8,  0, 12,  6,  4, 10,\n",
      "         7,  1,  1,  1,  8,  7,  3,  6,  7,  3,  3, 11,  2,  3,  4,  2,  7,  2,\n",
      "         1,  8,  2,  2, 10,  8,  7,  1,  9,  7,  3,  7,  4, 11,  0,  7,  9, 10,\n",
      "         4,  5,  4,  7,  0,  1,  1,  9,  5,  7,  9,  2,  6,  0,  2,  8,  9,  5,\n",
      "         8,  1,  1,  3,  3,  2,  3, 10,  8,  4,  2,  8, 12,  9,  6, 12,  1,  8,\n",
      "         9,  6,  5,  5, 11, 10,  0,  7,  0,  9,  0, 11,  2,  0,  9,  7,  3,  2,\n",
      "         4,  4,  9,  7, 12,  2,  3,  5,  7, 10, 12,  3,  4,  3,  3,  7,  4,  0,\n",
      "        12,  3,  8,  1, 12, 10,  2,  6,  5,  0,  9,  3,  0,  4,  2,  7,  0, 11,\n",
      "         5,  0,  5, 10,  0,  7,  5,  7,  3,  4,  4,  3,  5,  7,  6, 12, 10, 10,\n",
      "         8, 12,  3,  5, 12,  7,  6, 12, 10,  5,  9,  4,  3,  3, 12, 12, 10,  6,\n",
      "         2,  3,  5, 11,  7,  8,  8, 10,  1,  6,  1,  5,  6,  5,  5,  7,  6,  5,\n",
      "         5,  3, 10,  2])\n",
      "Num classes: 13\n"
     ]
    }
   ],
   "source": [
    "# visualize one batch\n",
    "xb, yb = data.one_batch()\n",
    "print(f'Batch size: {xb.size(0)}')\n",
    "print('X_batch')\n",
    "print(xb)\n",
    "print('Y_batch')\n",
    "print(yb)\n",
    "print('Num classes:', data.c)"
   ]
  },
  {
   "cell_type": "markdown",
   "metadata": {},
   "source": [
    "# 2. Transformer Encoder Architecture\n",
    "\n",
    "We will use pytorch for this implementation. It is worth noting that pytorch has an implementation of the transformer architecture, both encoder and decoder."
   ]
  },
  {
   "cell_type": "markdown",
   "metadata": {
    "heading_collapsed": true
   },
   "source": [
    "#### Potitional Embedding\n",
    "\n",
    "The positional embedding is critical for the transformer to be able to \"know\" where is the sequence it is looking at.\n",
    "\n",
    "Vaswani et al. used a sinusoid function to generate these embeddings."
   ]
  },
  {
   "cell_type": "code",
   "execution_count": 69,
   "metadata": {
    "hidden": true
   },
   "outputs": [],
   "source": [
    "# set model config\n",
    "# this is a pretty small network, any bigger and the model can easy solve this problem.\n",
    "# I am purposefully trying to make it difficult for the vanilla model to \"solve\" this problem.\n",
    "\n",
    "_HIDDEN_SIZE = 64\n",
    "_NUM_LAYERS = 2\n",
    "_NUM_HEADS = 4"
   ]
  },
  {
   "cell_type": "code",
   "execution_count": 81,
   "metadata": {
    "hidden": true
   },
   "outputs": [],
   "source": [
    "class PositionalEmbedding(nn.Module):\n",
    "    def __init__(self, maxlen: int, hidden_size: int) -> None:\n",
    "        super().__init__()\n",
    "        self.embedding_layer = nn.Embedding(\n",
    "            maxlen,\n",
    "            hidden_size\n",
    "        )\n",
    "        self._init_position_weights()\n",
    "\n",
    "    def _init_position_weights(self) -> None:\n",
    "        \"\"\"\n",
    "        Set and freeze the sinusoid weights.\n",
    "        Attention is all you need - Section 3.5\n",
    "        \"\"\"\n",
    "        W = torch.zeros_like(self.embedding_layer.weight)\n",
    "        timesteps, dims = W.size()\n",
    "        for pos in range(timesteps):\n",
    "            for dim in range(dims):\n",
    "                val = torch.tensor( pos / 10000 ** (dim / dims) )\n",
    "                if dim % 2 == 0:\n",
    "                    W[pos, dim] = torch.sin(val)\n",
    "                else:\n",
    "                    W[pos, dim] = torch.cos(val)\n",
    "        self.embedding_layer.weight = torch.nn.Parameter(W, requires_grad=False)\n",
    "\n",
    "    def forward(self, X: torch.LongTensor) -> torch.FloatTensor:\n",
    "        return self.embedding_layer(X)\n",
    "\n",
    "    @property\n",
    "    def weight(self):\n",
    "        return self.embedding_layer.weight"
   ]
  },
  {
   "cell_type": "code",
   "execution_count": 82,
   "metadata": {
    "hidden": true
   },
   "outputs": [
    {
     "data": {
      "text/plain": [
       "<matplotlib.image.AxesImage at 0x7f36c0fed1d0>"
      ]
     },
     "execution_count": 82,
     "metadata": {},
     "output_type": "execute_result"
    },
    {
     "data": {
      "image/png": "[encoded data removed]",
      "text/plain": [
       "<Figure size 432x576 with 1 Axes>"
      ]
     },
     "metadata": {
      "needs_background": "light"
     },
     "output_type": "display_data"
    }
   ],
   "source": [
    "pos_emb = PositionalEmbedding(_MAXLEN, _HIDDEN_SIZE)\n",
    "plt.imshow(\n",
    "    pos_emb(torch.arange(0, 32)).cpu().numpy(),\n",
    "    cmap='Greys'\n",
    ")"
   ]
  },
  {
   "cell_type": "markdown",
   "metadata": {},
   "source": [
    "#### The transformer encoder"
   ]
  },
  {
   "cell_type": "code",
   "execution_count": 83,
   "metadata": {},
   "outputs": [],
   "source": [
    "class TransformerEmbedding(nn.Module):\n",
    "    \"\"\"Token and positional embedding for the Transformer.\"\"\"\n",
    "    def __init__(self, vocab_size: int, hidden_size: int, maxlen: int) -> None:\n",
    "        super().__init__()\n",
    "        self.vocab_size = vocab_size\n",
    "        self.hidden_size = hidden_size\n",
    "        self.maxlen = maxlen\n",
    "        self.word_embedding = nn.Embedding(\n",
    "            self.vocab_size,\n",
    "            self.hidden_size,\n",
    "            padding_idx=0\n",
    "        )\n",
    "        self.pos_embedding = PositionalEmbedding(\n",
    "            maxlen,\n",
    "            hidden_size\n",
    "        )\n",
    "\n",
    "    def forward(self, X: torch.LongTensor) -> torch.FloatTensor:\n",
    "        B, T = X.size()\n",
    "        w_emb = self.word_embedding(X)\n",
    "        p_emb = self.pos_embedding(self.get_position_ints(B, T))\n",
    "        # scale by sqrt(hidden size), Vaswani et al. Section 3.4\n",
    "        emb = math.sqrt(self.hidden_size) * w_emb + p_emb\n",
    "        return emb\n",
    "    \n",
    "    def get_mask(self, X: torch.LongTensor) -> torch.ByteTensor:\n",
    "        \"\"\"Get the mask for the transformer.\"\"\"\n",
    "        return (X == 0)  # (B, T)\n",
    "    \n",
    "    def get_position_ints(self, batch_size: int, length: int) -> torch.LongTensor:        \n",
    "        X = torch.zeros(batch_size, length, dtype=torch.int64)\n",
    "        X[:] = torch.arange(length)\n",
    "        return X.to(self.device)\n",
    "\n",
    "    @property\n",
    "    def device(self):\n",
    "        return list(self.parameters())[0].device\n",
    "\n",
    "\n",
    "class DateEncoder(nn.Module):\n",
    "    def __init__(self, tok_to_int) -> None:\n",
    "        super().__init__()\n",
    "        self.maxlen = _MAXLEN\n",
    "        self.vocab_size = len(tok_to_int)\n",
    "        self.hidden_size = _HIDDEN_SIZE\n",
    "        self.num_layers = _NUM_LAYERS\n",
    "        self.num_heads = _NUM_HEADS\n",
    "\n",
    "        self.embedding_layer = TransformerEmbedding(\n",
    "            self.vocab_size,\n",
    "            self.hidden_size,\n",
    "            self.maxlen\n",
    "        )\n",
    "\n",
    "        transformer_layer = nn.TransformerEncoderLayer(\n",
    "            self.hidden_size,\n",
    "            self.num_heads,\n",
    "            dim_feedforward=self.hidden_size,\n",
    "        )\n",
    "        self.transformer = nn.TransformerEncoder(\n",
    "            transformer_layer,\n",
    "            self.num_layers,\n",
    "            norm=nn.LayerNorm(self.hidden_size)\n",
    "        )\n",
    "        \n",
    "    def forward(self, X: torch.LongTensor) -> torch.FloatTensor:\n",
    "        emb = self.embedding_layer(X)  # (B, T, e)\n",
    "        emb_t = torch.transpose(emb, 0, 1)  # (T, B, e)\n",
    "        mask = self.embedding_layer.get_mask(X)  # (B, T)\n",
    "        emb_t = self.transformer(emb_t, src_key_padding_mask=mask)  # (T, B, e)\n",
    "        return emb_t\n",
    "\n",
    "\n",
    "class DateClassifier(nn.Module):\n",
    "    def __init__(self, tok_to_int: dict, output_dim: int) -> None:\n",
    "        super().__init__()\n",
    "        self.output_dim = output_dim\n",
    "        self.encoder = DateEncoder(tok_to_int)\n",
    "        self.densor = nn.Sequential(\n",
    "            nn.Linear(self.encoder.hidden_size, self.encoder.hidden_size),\n",
    "            nn.ReLU(),\n",
    "            nn.Linear(self.encoder.hidden_size, output_dim)\n",
    "        )\n",
    "    \n",
    "    def forward(self, X: torch.LongTensor) -> torch.FloatTensor:\n",
    "        emb = self.encoder(X)  # (T, B, e)\n",
    "        last_emb = emb[-1]  # (B, e)\n",
    "        logit = self.densor(last_emb)\n",
    "        log_prob = F.log_softmax(logit, dim=-1)\n",
    "        return log_prob"
   ]
  },
  {
   "cell_type": "markdown",
   "metadata": {
    "heading_collapsed": true
   },
   "source": [
    "#### Hooks let us inspect the inputs/outputs of intermediate layers\n",
    "\n",
    "For more examples and explanation.\n",
    "https://blog.paperspace.com/pytorch-hooks-gradient-clipping-debugging/"
   ]
  },
  {
   "cell_type": "code",
   "execution_count": 84,
   "metadata": {
    "code_folding": [],
    "hidden": true
   },
   "outputs": [],
   "source": [
    "def decode_tensor(x: torch.LongTensor, int_to_tok: dict, strip_pad: bool = False):\n",
    "    \"\"\"Decode the model output, int -> char.\n",
    "    Optionally remove all padding characters.\n",
    "    \"\"\"\n",
    "    if strip_pad:\n",
    "        return [int_to_tok[i] for i in x if i!=0]\n",
    "    return [int_to_tok[i] for i in x]\n",
    "\n",
    "\n",
    "def find_attn_modules(model: nn.Module, attn_modules: list, depth = 0):\n",
    "    \"\"\"Get all the attention modules in a model.\"\"\"\n",
    "    for i, module in enumerate(model.children()):\n",
    "        if isinstance(module, nn.MultiheadAttention):\n",
    "            attn_modules += [module]\n",
    "        else:\n",
    "            find_attn_modules(module, attn_modules, depth + 1)\n",
    "\n",
    "\n",
    "class AttnModelHooks:\n",
    "    def __init__(self, model: nn.Module) -> None:\n",
    "        self.data = dict()  # store the inputs/outputs of intermediate layers here\n",
    "        self.embedding_module = model.encoder.embedding_layer\n",
    "        self.output_module = model.densor\n",
    "        self.attn_modules = []\n",
    "        find_attn_modules(model, self.attn_modules, 0)\n",
    "        \n",
    "    def register(self):\n",
    "        self.embedding_module.register_forward_hook(self.text_hook)\n",
    "        self.output_module.register_forward_hook(self.output_hook)\n",
    "        for layer in self.attn_modules:\n",
    "            layer.register_forward_hook(self.attn_hook)\n",
    "\n",
    "    def text_hook(self, module: nn.Module, inputs: tuple, outputs: tuple):\n",
    "        assert isinstance(module, TransformerEmbedding)\n",
    "        token_ids = inputs[0]\n",
    "        decoded = [decode_tensor(ids, int_to_tok, strip_pad=True) for ids in token_ids]\n",
    "        self.data['text'] = decoded\n",
    "\n",
    "    def attn_hook(self, module: nn.Module, inputs: tuple, outputs: tuple):\n",
    "        assert isinstance(module, nn.MultiheadAttention)\n",
    "        # these are attn values averaged over num_heads\n",
    "        # unfortunately its not straight forward to get the unaaveraged values\n",
    "        attn_weights = outputs[-1]  # (B, Tq, Tv), https://github.com/pytorch/pytorch/blob/master/torch/nn/functional.py#L3430\n",
    "        self.data[module] = attn_weights\n",
    "\n",
    "    def output_hook(self, module: nn.Module, inputs: tuple, outputs: tuple):\n",
    "        assert isinstance(module, nn.Sequential)\n",
    "        self.data['logit'] = outputs\n",
    "\n",
    "    def get_attn_data(self, idx: int) -> torch.FloatTensor:\n",
    "        attn = []\n",
    "        for layer in self.attn_modules:\n",
    "            attn.append(self.data.get(layer)[idx])\n",
    "        return torch.stack(attn, dim=0)\n",
    "\n",
    "    def get_text_data(self, idx: int) -> List[str]:\n",
    "        return self.data['text'][idx]\n",
    "    \n",
    "    def get_output_data(self, idx: int) -> torch.FloatTensor:\n",
    "        return self.data['logit'][idx]\n",
    "\n",
    "    def plot_attn(self, idx: int):\n",
    "        attn_weights = self.get_attn_data(idx)\n",
    "        text = self.get_text_data(idx)\n",
    "        N = len(text)\n",
    "        ticks = np.arange(N)\n",
    "        for dim in range(attn_weights.size(0)):\n",
    "            attn_vals = attn_weights[dim].detach().cpu().numpy()\n",
    "            attn_vals = attn_vals[-N:, -N:]\n",
    "            plt.imshow(attn_vals, cmap='gray', vmin=0., vmax=1.)\n",
    "            plt.yticks(ticks, text)\n",
    "            plt.xticks(ticks, text, rotation=45)\n",
    "            plt.show()"
   ]
  },
  {
   "cell_type": "markdown",
   "metadata": {},
   "source": [
    "### Train the classifier"
   ]
  },
  {
   "cell_type": "code",
   "execution_count": 85,
   "metadata": {},
   "outputs": [],
   "source": [
    "model = DateClassifier(tok_to_int, data.c)\n",
    "hooks = AttnModelHooks(model)\n",
    "learner = Learner(data, model, loss_func=nn.NLLLoss(), opt_func=optim.Adam, metrics=[accuracy])\n",
    "hooks.register()"
   ]
  },
  {
   "cell_type": "code",
   "execution_count": 86,
   "metadata": {},
   "outputs": [
    {
     "data": {
      "text/html": [
       "\n",
       "    <div>\n",
       "        <style>\n",
       "            /* Turns off some styling */\n",
       "            progress {\n",
       "                /* gets rid of default border in Firefox and Opera. */\n",
       "                border: none;\n",
       "                /* Needs to be in here for Safari polyfill so background images work as expected. */\n",
       "                background-size: auto;\n",
       "            }\n",
       "            .progress-bar-interrupted, .progress-bar-interrupted::-webkit-progress-bar {\n",
       "                background: #F44336;\n",
       "            }\n",
       "        </style>\n",
       "      <progress value='0' class='' max='1', style='width:300px; height:20px; vertical-align: middle;'></progress>\n",
       "      0.00% [0/1 00:00<00:00]\n",
       "    </div>\n",
       "    \n",
       "<table border=\"1\" class=\"dataframe\">\n",
       "  <thead>\n",
       "    <tr style=\"text-align: left;\">\n",
       "      <th>epoch</th>\n",
       "      <th>train_loss</th>\n",
       "      <th>valid_loss</th>\n",
       "      <th>accuracy</th>\n",
       "      <th>time</th>\n",
       "    </tr>\n",
       "  </thead>\n",
       "  <tbody>\n",
       "  </tbody>\n",
       "</table><p>\n",
       "\n",
       "    <div>\n",
       "        <style>\n",
       "            /* Turns off some styling */\n",
       "            progress {\n",
       "                /* gets rid of default border in Firefox and Opera. */\n",
       "                border: none;\n",
       "                /* Needs to be in here for Safari polyfill so background images work as expected. */\n",
       "                background-size: auto;\n",
       "            }\n",
       "            .progress-bar-interrupted, .progress-bar-interrupted::-webkit-progress-bar {\n",
       "                background: #F44336;\n",
       "            }\n",
       "        </style>\n",
       "      <progress value='99' class='' max='390', style='width:300px; height:20px; vertical-align: middle;'></progress>\n",
       "      25.38% [99/390 00:21<01:02 4.7378]\n",
       "    </div>\n",
       "    "
      ],
      "text/plain": [
       "<IPython.core.display.HTML object>"
      ]
     },
     "metadata": {},
     "output_type": "display_data"
    },
    {
     "name": "stdout",
     "output_type": "stream",
     "text": [
      "LR Finder is complete, type {learner_name}.recorder.plot() to see the graph.\n"
     ]
    },
    {
     "data": {
      "image/png": "[encoded data removed]",
      "text/plain": [
       "<Figure size 432x576 with 1 Axes>"
      ]
     },
     "metadata": {
      "needs_background": "light"
     },
     "output_type": "display_data"
    }
   ],
   "source": [
    "learner.lr_find()\n",
    "learner.recorder.plot()"
   ]
  },
  {
   "cell_type": "code",
   "execution_count": 87,
   "metadata": {},
   "outputs": [
    {
     "data": {
      "text/html": [
       "<table border=\"1\" class=\"dataframe\">\n",
       "  <thead>\n",
       "    <tr style=\"text-align: left;\">\n",
       "      <th>epoch</th>\n",
       "      <th>train_loss</th>\n",
       "      <th>valid_loss</th>\n",
       "      <th>accuracy</th>\n",
       "      <th>time</th>\n",
       "    </tr>\n",
       "  </thead>\n",
       "  <tbody>\n",
       "    <tr>\n",
       "      <td>0</td>\n",
       "      <td>0.671052</td>\n",
       "      <td>0.643782</td>\n",
       "      <td>0.601600</td>\n",
       "      <td>01:21</td>\n",
       "    </tr>\n",
       "    <tr>\n",
       "      <td>1</td>\n",
       "      <td>0.611416</td>\n",
       "      <td>0.595853</td>\n",
       "      <td>0.649500</td>\n",
       "      <td>01:21</td>\n",
       "    </tr>\n",
       "  </tbody>\n",
       "</table>"
      ],
      "text/plain": [
       "<IPython.core.display.HTML object>"
      ]
     },
     "metadata": {},
     "output_type": "display_data"
    },
    {
     "data": {
      "text/html": [
       "<table border=\"1\" class=\"dataframe\">\n",
       "  <thead>\n",
       "    <tr style=\"text-align: left;\">\n",
       "      <th>epoch</th>\n",
       "      <th>train_loss</th>\n",
       "      <th>valid_loss</th>\n",
       "      <th>accuracy</th>\n",
       "      <th>time</th>\n",
       "    </tr>\n",
       "  </thead>\n",
       "  <tbody>\n",
       "    <tr>\n",
       "      <td>0</td>\n",
       "      <td>0.551282</td>\n",
       "      <td>0.523535</td>\n",
       "      <td>0.688100</td>\n",
       "      <td>01:21</td>\n",
       "    </tr>\n",
       "    <tr>\n",
       "      <td>1</td>\n",
       "      <td>0.402857</td>\n",
       "      <td>0.375477</td>\n",
       "      <td>0.759700</td>\n",
       "      <td>01:21</td>\n",
       "    </tr>\n",
       "    <tr>\n",
       "      <td>2</td>\n",
       "      <td>0.389530</td>\n",
       "      <td>0.369835</td>\n",
       "      <td>0.773400</td>\n",
       "      <td>01:21</td>\n",
       "    </tr>\n",
       "    <tr>\n",
       "      <td>3</td>\n",
       "      <td>0.318420</td>\n",
       "      <td>0.272692</td>\n",
       "      <td>0.823300</td>\n",
       "      <td>01:20</td>\n",
       "    </tr>\n",
       "    <tr>\n",
       "      <td>4</td>\n",
       "      <td>0.254584</td>\n",
       "      <td>0.230931</td>\n",
       "      <td>0.839000</td>\n",
       "      <td>01:22</td>\n",
       "    </tr>\n",
       "  </tbody>\n",
       "</table>"
      ],
      "text/plain": [
       "<IPython.core.display.HTML object>"
      ]
     },
     "metadata": {},
     "output_type": "display_data"
    }
   ],
   "source": [
    "learner.fit_one_cycle(2, max_lr=1e-2)\n",
    "learner.fit(5, 1e-3)"
   ]
  },
  {
   "cell_type": "code",
   "execution_count": 90,
   "metadata": {},
   "outputs": [],
   "source": [
    "def get_one_sample(learner: Learner, ds_type: DatasetType, idx: int, int_to_tok: dict) -> dict:\n",
    "    ds = learner.data.dl(ds_type).dataset\n",
    "    sample = ds[idx]\n",
    "    sample['text'] = decode_tensor(sample['encode_text'], int_to_tok, strip_pad=True)\n",
    "    return sample\n",
    "\n",
    "def make_prediction_on_sample(learner: Learner, hooks, ds_type: DatasetType, idx: int, int_to_tok: dict):\n",
    "    sample = get_one_sample(learner, ds_type, idx, int_to_tok)\n",
    "    xb, yb = learner.data.collate_fn([sample])\n",
    "    xb = xb.to(learner.data.device)\n",
    "    yb = yb.to(learner.data.device)\n",
    "    \n",
    "    with torch.no_grad():\n",
    "        log_prob = learner.model(xb)\n",
    "        pred_label = log_prob.argmax(-1).item()\n",
    "    hooks.plot_attn(0)  # since the batch size is 1, always plot the 0 index\n",
    "    print(f'Ground truth: {yb.item()}')\n",
    "    print(f'Prediction: {pred_label}')"
   ]
  },
  {
   "cell_type": "code",
   "execution_count": 91,
   "metadata": {
    "scrolled": false
   },
   "outputs": [
    {
     "data": {
      "image/png": "[encoded data removed]",
      "text/plain": [
       "<Figure size 432x576 with 1 Axes>"
      ]
     },
     "metadata": {
      "needs_background": "light"
     },
     "output_type": "display_data"
    },
    {
     "data": {
      "image/png": "[encoded data removed]",
      "text/plain": [
       "<Figure size 432x576 with 1 Axes>"
      ]
     },
     "metadata": {
      "needs_background": "light"
     },
     "output_type": "display_data"
    },
    {
     "name": "stdout",
     "output_type": "stream",
     "text": [
      "Ground truth: 4\n",
      "Prediction: 5\n"
     ]
    }
   ],
   "source": [
    "make_prediction_on_sample(learner, hooks, DatasetType.Valid, 3, int_to_tok)"
   ]
  },
  {
   "cell_type": "code",
   "execution_count": null,
   "metadata": {},
   "outputs": [],
   "source": []
  }
 ],
 "metadata": {
  "kernelspec": {
   "display_name": "Python 3",
   "language": "python",
   "name": "python3"
  },
  "language_info": {
   "codemirror_mode": {
    "name": "ipython",
    "version": 3
   },
   "file_extension": ".py",
   "mimetype": "text/x-python",
   "name": "python",
   "nbconvert_exporter": "python",
   "pygments_lexer": "ipython3",
   "version": "3.7.6"
  }
 },
 "nbformat": 4,
 "nbformat_minor": 4
}
