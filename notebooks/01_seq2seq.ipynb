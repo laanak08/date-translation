{
 "cells": [
  {
   "cell_type": "markdown",
   "metadata": {},
   "source": [
    "# Date Standardization\n",
    "\n",
    "Written dates can come in many formats, it may be helpful to be able to standardize them for further processing.\n",
    "\n",
    "## In this notebook\n",
    "1. Implement a vanilla Seq2Seq model using a multilayer LSTM.\n",
    "2. Implement the dot product variant of Luong attention.\n",
    "3. Experiment with different variations of attention."
   ]
  },
  {
   "cell_type": "markdown",
   "metadata": {},
   "source": [
    "## 1. Import, load, and define datasets."
   ]
  },
  {
   "cell_type": "code",
   "execution_count": 1,
   "metadata": {},
   "outputs": [],
   "source": [
    "import os\n",
    "# change this to run on a specific GPU on your machine, indexing starts at 0\n",
    "os.environ['CUDA_VISIBLE_DEVICES'] = '1'"
   ]
  },
  {
   "cell_type": "code",
   "execution_count": 2,
   "metadata": {},
   "outputs": [],
   "source": [
    "import math\n",
    "import random\n",
    "import string\n",
    "from pathlib import Path\n",
    "from typing import Callable, List, Tuple\n",
    "\n",
    "import ipywidgets as widgets\n",
    "from IPython.display import display, HTML\n",
    "\n",
    "from fastai.basic_data import DataBunch, DatasetType\n",
    "from fastai.metrics import accuracy\n",
    "from fastai.train import Learner\n",
    "from fastprogress import progress_bar\n",
    "import matplotlib.pyplot as plt\n",
    "import numpy as np\n",
    "import pandas as pd\n",
    "\n",
    "import torch\n",
    "import torch.nn as nn\n",
    "import torch.nn.functional as F\n",
    "import torch.optim as optim\n",
    "import torch.utils as utils\n",
    "\n",
    "%matplotlib inline\n",
    "plt.rcParams[\"figure.figsize\"] = [6, 8]"
   ]
  },
  {
   "cell_type": "code",
   "execution_count": 3,
   "metadata": {},
   "outputs": [],
   "source": [
    "_DATA_PATH = Path('../data')\n",
    "_RAW_PATH = _DATA_PATH / 'raw'"
   ]
  },
  {
   "cell_type": "code",
   "execution_count": 4,
   "metadata": {},
   "outputs": [],
   "source": [
    "def load_dataframes(raw_path):\n",
    "    df_names = ['train', 'valid', 'test']\n",
    "    dfs = [pd.read_csv(raw_path/f'{df_name}.csv') for df_name in df_names]\n",
    "    return dfs\n",
    "\n",
    "\n",
    "def create_vocab():\n",
    "    tokens = ['<pad>', '<unk>', '<sos>', '<eos>'] + list(string.printable)\n",
    "    tok_to_int = {c: i for i, c in enumerate(tokens)}\n",
    "    int_to_tok = [c for c, i in tok_to_int.items()]\n",
    "    assert tok_to_int['<pad>'] == 0\n",
    "    assert tok_to_int['<unk>'] == 1\n",
    "    assert tok_to_int['<sos>'] == 2\n",
    "    return tok_to_int, int_to_tok\n",
    "\n",
    "def build_text_mapper(tok_to_int: dict) -> Callable:\n",
    "    def mapper(text: str):\n",
    "        return [tok_to_int['<sos>']] + [tok_to_int.get(c, 1) for c in text] + [tok_to_int['<eos>']]\n",
    "    return mapper"
   ]
  },
  {
   "cell_type": "markdown",
   "metadata": {},
   "source": [
    "### Load data and create character -> int mapping"
   ]
  },
  {
   "cell_type": "code",
   "execution_count": 5,
   "metadata": {},
   "outputs": [],
   "source": [
    "train_df, valid_df, test_df = load_dataframes(_RAW_PATH)\n",
    "tok_to_int, int_to_tok = create_vocab()"
   ]
  },
  {
   "cell_type": "markdown",
   "metadata": {},
   "source": [
    "### Define a dataset\n",
    "Input: \n",
    "\n",
    "    encoder input: Noisy date text, i.e. `Saturday December 23, 1834`\n",
    "    \n",
    "    decoder input: the standard date text without the last timestep, include <sos> excludes <eos>. \n",
    "                   This is only needed when we are training with \"teacher forcing\". Otherwise the decoder\n",
    "                   makes predictions on its own without knowing what it the correct answer was for the previous \n",
    "                   timestep.\n",
    "    \n",
    "output: \n",
    "\n",
    "    Standard date text without the first timestep, include <eos>, excludes <sos>\n",
    "    \n",
    "The following dataset code is specific to pytorch and may seem a bit convoluted. It just maps an integer index to a single training sample, as described above."
   ]
  },
  {
   "cell_type": "code",
   "execution_count": 43,
   "metadata": {},
   "outputs": [],
   "source": [
    "# the model will see sequences of length 32.\n",
    "# any date shorter than 32 characters will be padded.\n",
    "_MAXLEN = 32\n",
    "\n",
    "class DateDataset(utils.data.Dataset):\n",
    "    \"\"\"\n",
    "    Maps an index to a tuple of (inputs, outputs).\n",
    "    \n",
    "    Example\n",
    "    -------\n",
    "    ds = DateDataset(df, text_mapper)\n",
    "    ds[0]\n",
    "    \"\"\"\n",
    "    def __init__(self, df: pd.DataFrame, text_mapper: Callable) -> None:\n",
    "        self.df = df\n",
    "        self.x_col = 'input'\n",
    "        self.y_col = 'output'\n",
    "        self.maxlen = _MAXLEN\n",
    "        self.pad_val = 0\n",
    "        self.text_mapper = text_mapper\n",
    "        \n",
    "        self._prepare_data()\n",
    "    \n",
    "    def _prepare_data(self):\n",
    "        self.df['encode_text'] = self.df[self.x_col].apply(self.get_tokens, args=('pre',))\n",
    "        self.df['decode_text'] = self.df[self.y_col].apply(self.get_tokens, args=('post',))\n",
    "    \n",
    "    def __getitem__(self, idx: int):\n",
    "        sample = self.df.iloc[idx]\n",
    "        encode_text = sample.encode_text\n",
    "        decode_text = sample.decode_text\n",
    "        return {\n",
    "            'encode_text': encode_text,\n",
    "            'decode_text': decode_text[:-1],\n",
    "            'output': decode_text[1:]\n",
    "        }\n",
    "    \n",
    "    def __len__(self) -> int:\n",
    "        return self.df.shape[0]\n",
    "    \n",
    "    def get_tokens(self, text: str, mode: str) -> torch.LongTensor:\n",
    "        if random.random() < 0.5:\n",
    "            text = text.lower()\n",
    "        tokens = self.text_mapper(text)\n",
    "        tokens = self._pad_sequence(tokens, mode)\n",
    "        return torch.LongTensor(tokens)\n",
    "    \n",
    "    def _pad_sequence(self, seq: List, mode: str) -> List:\n",
    "        diff = self.maxlen - len(seq)\n",
    "        if diff < 0:\n",
    "            raise ValueError('Can not pad a sequence longer than maxlen')\n",
    "        if mode == 'pre':\n",
    "            return [self.pad_val] * diff + seq\n",
    "        elif mode == 'post':\n",
    "            return seq + [self.pad_val] * diff\n",
    "        else:\n",
    "            raise ValueError('mode must be pre or post')\n",
    "\n",
    "\n",
    "def collate_batch(batch: List):\n",
    "    \"\"\"Stack each sample together to make a batch.\"\"\"\n",
    "    # text will have shape (B, T)\n",
    "    encode_text = torch.stack([sample['encode_text'] for sample in batch])\n",
    "    decode_text = torch.stack([sample['decode_text'] for sample in batch])\n",
    "    # y, needs to be flat to calculate the loss\n",
    "    # y shape = (B*T, )\n",
    "    y = torch.cat([sample['output'] for sample in batch])\n",
    "    return {'encode_text': encode_text, 'decode_text': decode_text}, y"
   ]
  },
  {
   "cell_type": "markdown",
   "metadata": {},
   "source": [
    "## Create the datasets"
   ]
  },
  {
   "cell_type": "code",
   "execution_count": 44,
   "metadata": {},
   "outputs": [],
   "source": [
    "text_mapper = build_text_mapper(tok_to_int)\n",
    "\n",
    "train_ds = DateDataset(train_df, text_mapper)\n",
    "valid_ds = DateDataset(valid_df, text_mapper)\n",
    "test_ds = DateDataset(test_df, text_mapper)\n",
    "\n",
    "data = DataBunch.create(train_ds, valid_ds, test_ds, bs=256, collate_fn=collate_batch, device=torch.device('cuda:0'))"
   ]
  },
  {
   "cell_type": "code",
   "execution_count": 46,
   "metadata": {},
   "outputs": [
    {
     "name": "stdout",
     "output_type": "stream",
     "text": [
      "X_batch\n",
      "{'encode_text': tensor([[ 0,  0,  0,  ...,  5,  8,  3],\n",
      "        [ 0,  0,  0,  ..., 13, 13,  3],\n",
      "        [ 0,  0,  0,  ..., 13, 11,  3],\n",
      "        ...,\n",
      "        [ 0,  0,  0,  ...,  7, 11,  3],\n",
      "        [ 0,  0,  0,  ..., 78, 11,  3],\n",
      "        [ 0,  0,  0,  ...,  6,  5,  3]]), 'decode_text': tensor([[ 2,  5,  8,  ...,  0,  0,  0],\n",
      "        [ 2,  5,  8,  ...,  0,  0,  0],\n",
      "        [ 2,  6,  4,  ...,  0,  0,  0],\n",
      "        ...,\n",
      "        [ 2,  5,  9,  ...,  0,  0,  0],\n",
      "        [ 2,  6,  4,  ...,  0,  0,  0],\n",
      "        [ 2,  5, 13,  ...,  0,  0,  0]])}\n",
      "Y_batch\n",
      "tensor([5, 8, 5,  ..., 0, 0, 0])\n"
     ]
    }
   ],
   "source": [
    "# visualize one batch\n",
    "xb, yb = data.one_batch()\n",
    "print('X_batch')\n",
    "print(xb)\n",
    "print('Y_batch')\n",
    "print(yb)"
   ]
  },
  {
   "cell_type": "markdown",
   "metadata": {},
   "source": [
    "# 2. Vanilla RNN/LSTM\n",
    "![Luong Figure 1.](img/luong_seq2seq.png)\n",
    "\n",
    "### Implementation:\n",
    "1. Encode the input text, you will get 1 vector for each step in the input.\n",
    "2. Keep the RNN's hidden state from the last time step, call this $h_t$. In the picture, these are the two arrows between the blue and red blocks.\n",
    "3. Initialize the decoder's hidden state with $h_t$.\n",
    "4. Let the decoder make predictions one step at a time. This will modify $h_t$.\n",
    "5. Feed the last prediction and $h_t$ as the next step of the decoder.\n",
    "6. Stop when you reach the \"<eos\\>\" marker."
   ]
  },
  {
   "cell_type": "code",
   "execution_count": 47,
   "metadata": {},
   "outputs": [],
   "source": [
    "# set model config\n",
    "# this is a pretty small network, any bigger and the model can easy solve this problem.\n",
    "# I am purposefully trying to make it difficult for the vanilla model to \"solve\" this problem.\n",
    "\n",
    "_HIDDEN_SIZE = 32\n",
    "_NUM_LAYERS = 2\n",
    "_RNN_LAYER = nn.LSTM"
   ]
  },
  {
   "cell_type": "markdown",
   "metadata": {
    "heading_collapsed": true
   },
   "source": [
    "### Seq2Seq Model\n",
    "\n",
    "Pytorch implementation of a Seq2Seq model using an embedding layer followed by a stack of RNN layers.\n",
    "\n",
    "I have commented on the shape of the output tensor for each line.\n",
    "\n",
    "```\n",
    "B = batch size\n",
    "T = time steps\n",
    "e = embedding dimension\n",
    "```"
   ]
  },
  {
   "cell_type": "code",
   "execution_count": 10,
   "metadata": {
    "hidden": true
   },
   "outputs": [],
   "source": [
    "class SequenceEncoder(nn.Module):\n",
    "    def __init__(self, tok_to_int: dict) -> None:\n",
    "        super().__init__()\n",
    "        self.vocab_size = len(tok_to_int)\n",
    "        self.hidden_size = _HIDDEN_SIZE\n",
    "        self.rnn_layers = _NUM_LAYERS\n",
    "        \n",
    "        self.embedding_layer = nn.Embedding(\n",
    "            self.vocab_size,\n",
    "            self.hidden_size,\n",
    "            padding_idx=0\n",
    "        )\n",
    "        self.rnn = _RNN_LAYER(\n",
    "            self.hidden_size,\n",
    "            self.hidden_size,\n",
    "            num_layers=self.rnn_layers,\n",
    "            batch_first=False\n",
    "        )\n",
    "\n",
    "    def forward(self, X: torch.LongTensor) -> torch.FloatTensor:\n",
    "        emb = self.embedding_layer(X)  # (B, T, e)\n",
    "        emb_t = torch.transpose(emb, 0, 1)  # (T, B, e)\n",
    "        state = self._init_hidden(emb.size(0))  # init zero state\n",
    "        emb, state = self.rnn(emb_t, state)  # (T, B, e), ( (num_layers, B, e), (num_layers, B, e) )\n",
    "        return emb, state\n",
    "\n",
    "    def _init_hidden(self, batch_size: int) -> Tuple[torch.FloatTensor]:\n",
    "        h = torch.zeros(self.rnn_layers, batch_size, self.hidden_size)\n",
    "        if isinstance(self.rnn, nn.RNN):\n",
    "            return h.to(self.device)\n",
    "        c = torch.zeros(self.rnn_layers, batch_size, self.hidden_size)\n",
    "        return h.to(self.device), c.to(self.device)\n",
    "    \n",
    "    def get_mask(self, X):\n",
    "        return (X == 0).float()\n",
    "\n",
    "    @property\n",
    "    def device(self):\n",
    "        return list(self.parameters())[0].device\n",
    "\n",
    "\n",
    "class SequenceDecoder(nn.Module):\n",
    "    def __init__(self, tok_to_int: dict) -> None:\n",
    "        super().__init__()\n",
    "        self.vocab_size = len(tok_to_int)\n",
    "        self.hidden_size = _HIDDEN_SIZE\n",
    "        self.rnn_layers = _NUM_LAYERS\n",
    "\n",
    "        # I am modifying the model size and architecture \n",
    "        # to better replicate the number of parameters that\n",
    "        # will be used in the attention model.\n",
    "        # This way we have a fairer comparison.\n",
    "        self.embedding_layer = nn.Embedding(\n",
    "            self.vocab_size,\n",
    "            2 * self.hidden_size,\n",
    "            padding_idx=0\n",
    "        )\n",
    "        self.rnn = _RNN_LAYER(\n",
    "            2 * self.hidden_size,\n",
    "            self.hidden_size,\n",
    "            num_layers=self.rnn_layers,\n",
    "            batch_first = False\n",
    "        )\n",
    "        self.h_tilda = nn.Sequential(\n",
    "            nn.Linear(self.hidden_size, self.hidden_size),\n",
    "            nn.Tanh()\n",
    "        )\n",
    "        self.densor = nn.Linear(self.hidden_size, self.vocab_size)\n",
    "\n",
    "    def forward(self, X: torch.LongTensor, encoder_state: Tuple[torch.FloatTensor]):\n",
    "        X_t = torch.transpose(X, 0, 1)  # (T, B)\n",
    "        emb_t = self.embedding_layer(X_t)  # (T, B, e)\n",
    "        emb, state = self.rnn(emb_t, encoder_state)\n",
    "        emb = self.h_tilda(emb)  # (T, B, e)\n",
    "        logit = self.densor(emb)  # (T, B, e)\n",
    "        log_prob = F.log_softmax(logit, dim=-1)  # (T, B, e)\n",
    "        return log_prob, state\n",
    "\n",
    "\n",
    "class Seq2Seq(nn.Module):\n",
    "    \"\"\"Ties together the encoder and decoder.\"\"\"\n",
    "\n",
    "    def __init__(self, tok_to_int: dict) -> None:\n",
    "        super().__init__()\n",
    "        self.tok_to_int = tok_to_int\n",
    "        self.encoder = SequenceEncoder(tok_to_int)\n",
    "        self.decoder = SequenceDecoder(tok_to_int)\n",
    "\n",
    "    def forward(self, X: dict):\n",
    "        teacher_force = random.random() < 0.5\n",
    "        if teacher_force:\n",
    "            encoder_out, encoder_state = self.encoder(X['encode_text'])\n",
    "            # Notice that the decoder's hidden state is given the last encoder state\n",
    "            # and is not initialized with zeros. This is how the decoder \"knows\" what\n",
    "            # the encoder saw.\n",
    "            decoder_out, decoder_state = self.decoder(X['decode_text'], encoder_state)  # (T, B, e), ...\n",
    "        else:\n",
    "            decoder_out, preds = self.predict(X['encode_text'])\n",
    "        decoder_out = torch.transpose(decoder_out, 0, 1).contiguous()  # (B, T, e)\n",
    "        return decoder_out.view(-1, self.decoder.vocab_size)\n",
    "\n",
    "    def predict(self, encode_text):\n",
    "        B = encode_text.size(0)\n",
    "        encoder_out, encoder_state = self.encoder(encode_text)\n",
    "        decoder_text = self._init_decode_text(B)\n",
    "        state = encoder_state\n",
    "        decoder_outputs = []  # keep track of log probs for each timestep\n",
    "        for i in range(_MAXLEN-1):\n",
    "            x = decoder_text[:, i:i+1]\n",
    "            decoder_out, state = self._predict_one_step(x, state)\n",
    "            token_pred = decoder_out.argmax(dim=-1)  # (1, B)\n",
    "            decoder_outputs.append(decoder_out)\n",
    "            decoder_text = torch.cat([decoder_text, token_pred.t()], dim=1)\n",
    "        decoder_out = torch.cat(decoder_outputs, dim=0)  # (T, B, e), log probs for each time step\n",
    "        return decoder_out, decoder_text\n",
    "            \n",
    "    def _predict_one_step(self, decoder_text, state):\n",
    "        assert decoder_text.size(1) == 1\n",
    "        decoder_out, decoder_state = self.decoder(decoder_text, state)\n",
    "        return decoder_out, decoder_state\n",
    "    \n",
    "    def _init_decode_text(self, batch_size: int) -> torch.LongTensor:\n",
    "        sos = torch.zeros(batch_size, 1, dtype=torch.int64).to(self.device)\n",
    "        sos += 2\n",
    "        return sos\n",
    "    \n",
    "    @property\n",
    "    def device(self):\n",
    "        return list(self.parameters())[0].device"
   ]
  },
  {
   "cell_type": "code",
   "execution_count": 48,
   "metadata": {
    "hidden": true
   },
   "outputs": [],
   "source": [
    "def decode_tensor(x: torch.LongTensor, int_to_tok: dict, strip_pad: bool = False):\n",
    "    \"\"\"Decode the model output, int -> char.\n",
    "    Optionally remove all padding characters.\n",
    "    \"\"\"\n",
    "    if strip_pad:\n",
    "        return [int_to_tok[i] for i in x if i!=0]\n",
    "    return [int_to_tok[i] for i in x]\n",
    "\n",
    "\n",
    "def test_sample(learner: Learner, ds_type: DatasetType, idx: int):\n",
    "    \"\"\"Inspect an individual sample.\n",
    "    You can specify which dataset to examine with `ds_type`.\n",
    "    \"\"\"\n",
    "    ds = learner.data.dl(ds_type).dataset\n",
    "    sample = ds.df.iloc[idx]\n",
    "    data = ds[idx]\n",
    "    xb, yb = learner.data.collate_fn([data])\n",
    "    xb = {k: v.to(learner.data.device) for k, v in xb.items()}\n",
    "    with torch.no_grad():\n",
    "        log_prob, pred_labels = learner.model.predict(xb['encode_text'])\n",
    "        toks = decode_tensor(pred_labels[0], int_to_tok, strip_pad=True)\n",
    "    decoded = ''.join(toks)\n",
    "    print('Input:', sample.input)\n",
    "    print('Expected Output:', sample.output)\n",
    "    print('Predicted Output:', decoded)"
   ]
  },
  {
   "cell_type": "markdown",
   "metadata": {},
   "source": [
    "## Train vanilla seq2seq"
   ]
  },
  {
   "cell_type": "code",
   "execution_count": 49,
   "metadata": {},
   "outputs": [],
   "source": [
    "# define the model and learner\n",
    "# this moves the pytorch model to a fastai learner which is nice for training.\n",
    "model = Seq2Seq(tok_to_int).to(data.device)\n",
    "learner = Learner(data, model, loss_func=nn.NLLLoss(), opt_func=optim.Adam, metrics=[accuracy])"
   ]
  },
  {
   "cell_type": "code",
   "execution_count": 50,
   "metadata": {},
   "outputs": [
    {
     "name": "stdout",
     "output_type": "stream",
     "text": [
      "Input: Saturday February 23 1771\n",
      "Expected Output: 1771-02-23\n",
      "Predicted Output: <sos>???????????????????????????????\n"
     ]
    }
   ],
   "source": [
    "# see what the initial output looks like\n",
    "test_sample(learner, DatasetType.Valid, 27)"
   ]
  },
  {
   "cell_type": "markdown",
   "metadata": {},
   "source": [
    "The untrained model has very bad output!"
   ]
  },
  {
   "cell_type": "code",
   "execution_count": 51,
   "metadata": {},
   "outputs": [
    {
     "data": {
      "text/html": [
       "\n",
       "    <div>\n",
       "        <style>\n",
       "            /* Turns off some styling */\n",
       "            progress {\n",
       "                /* gets rid of default border in Firefox and Opera. */\n",
       "                border: none;\n",
       "                /* Needs to be in here for Safari polyfill so background images work as expected. */\n",
       "                background-size: auto;\n",
       "            }\n",
       "            .progress-bar-interrupted, .progress-bar-interrupted::-webkit-progress-bar {\n",
       "                background: #F44336;\n",
       "            }\n",
       "        </style>\n",
       "      <progress value='0' class='' max='1', style='width:300px; height:20px; vertical-align: middle;'></progress>\n",
       "      0.00% [0/1 00:00<00:00]\n",
       "    </div>\n",
       "    \n",
       "<table border=\"1\" class=\"dataframe\">\n",
       "  <thead>\n",
       "    <tr style=\"text-align: left;\">\n",
       "      <th>epoch</th>\n",
       "      <th>train_loss</th>\n",
       "      <th>valid_loss</th>\n",
       "      <th>accuracy</th>\n",
       "      <th>time</th>\n",
       "    </tr>\n",
       "  </thead>\n",
       "  <tbody>\n",
       "  </tbody>\n",
       "</table><p>\n",
       "\n",
       "    <div>\n",
       "        <style>\n",
       "            /* Turns off some styling */\n",
       "            progress {\n",
       "                /* gets rid of default border in Firefox and Opera. */\n",
       "                border: none;\n",
       "                /* Needs to be in here for Safari polyfill so background images work as expected. */\n",
       "                background-size: auto;\n",
       "            }\n",
       "            .progress-bar-interrupted, .progress-bar-interrupted::-webkit-progress-bar {\n",
       "                background: #F44336;\n",
       "            }\n",
       "        </style>\n",
       "      <progress value='97' class='' max='390', style='width:300px; height:20px; vertical-align: middle;'></progress>\n",
       "      24.87% [97/390 00:04<00:14 9.9042]\n",
       "    </div>\n",
       "    "
      ],
      "text/plain": [
       "<IPython.core.display.HTML object>"
      ]
     },
     "metadata": {},
     "output_type": "display_data"
    },
    {
     "name": "stdout",
     "output_type": "stream",
     "text": [
      "LR Finder is complete, type {learner_name}.recorder.plot() to see the graph.\n"
     ]
    },
    {
     "data": {
      "image/png": "[encoded data removed]",
      "text/plain": [
       "<Figure size 432x576 with 1 Axes>"
      ]
     },
     "metadata": {
      "needs_background": "light"
     },
     "output_type": "display_data"
    }
   ],
   "source": [
    "# find a good learning rate\n",
    "learner.lr_find()\n",
    "learner.recorder.plot()"
   ]
  },
  {
   "cell_type": "code",
   "execution_count": 52,
   "metadata": {},
   "outputs": [
    {
     "data": {
      "text/html": [
       "<table border=\"1\" class=\"dataframe\">\n",
       "  <thead>\n",
       "    <tr style=\"text-align: left;\">\n",
       "      <th>epoch</th>\n",
       "      <th>train_loss</th>\n",
       "      <th>valid_loss</th>\n",
       "      <th>accuracy</th>\n",
       "      <th>time</th>\n",
       "    </tr>\n",
       "  </thead>\n",
       "  <tbody>\n",
       "    <tr>\n",
       "      <td>0</td>\n",
       "      <td>1.599195</td>\n",
       "      <td>1.836529</td>\n",
       "      <td>0.678152</td>\n",
       "      <td>00:18</td>\n",
       "    </tr>\n",
       "    <tr>\n",
       "      <td>1</td>\n",
       "      <td>0.893318</td>\n",
       "      <td>0.855686</td>\n",
       "      <td>0.704532</td>\n",
       "      <td>00:18</td>\n",
       "    </tr>\n",
       "  </tbody>\n",
       "</table>"
      ],
      "text/plain": [
       "<IPython.core.display.HTML object>"
      ]
     },
     "metadata": {},
     "output_type": "display_data"
    },
    {
     "data": {
      "text/html": [
       "<table border=\"1\" class=\"dataframe\">\n",
       "  <thead>\n",
       "    <tr style=\"text-align: left;\">\n",
       "      <th>epoch</th>\n",
       "      <th>train_loss</th>\n",
       "      <th>valid_loss</th>\n",
       "      <th>accuracy</th>\n",
       "      <th>time</th>\n",
       "    </tr>\n",
       "  </thead>\n",
       "  <tbody>\n",
       "    <tr>\n",
       "      <td>0</td>\n",
       "      <td>0.650017</td>\n",
       "      <td>0.573683</td>\n",
       "      <td>0.801087</td>\n",
       "      <td>00:18</td>\n",
       "    </tr>\n",
       "    <tr>\n",
       "      <td>1</td>\n",
       "      <td>0.456792</td>\n",
       "      <td>0.443417</td>\n",
       "      <td>0.825210</td>\n",
       "      <td>00:18</td>\n",
       "    </tr>\n",
       "    <tr>\n",
       "      <td>2</td>\n",
       "      <td>0.406872</td>\n",
       "      <td>0.403760</td>\n",
       "      <td>0.837987</td>\n",
       "      <td>00:18</td>\n",
       "    </tr>\n",
       "    <tr>\n",
       "      <td>3</td>\n",
       "      <td>0.395653</td>\n",
       "      <td>0.390303</td>\n",
       "      <td>0.840258</td>\n",
       "      <td>00:18</td>\n",
       "    </tr>\n",
       "    <tr>\n",
       "      <td>4</td>\n",
       "      <td>0.372606</td>\n",
       "      <td>0.368304</td>\n",
       "      <td>0.849665</td>\n",
       "      <td>00:18</td>\n",
       "    </tr>\n",
       "  </tbody>\n",
       "</table>"
      ],
      "text/plain": [
       "<IPython.core.display.HTML object>"
      ]
     },
     "metadata": {},
     "output_type": "display_data"
    }
   ],
   "source": [
    "# train for a few epochs, this is not long enough for the model to converge.\n",
    "learner.fit_one_cycle(2, 1e-1)\n",
    "learner.fit(5, 1e-2)"
   ]
  },
  {
   "cell_type": "code",
   "execution_count": 16,
   "metadata": {},
   "outputs": [
    {
     "name": "stdout",
     "output_type": "stream",
     "text": [
      "Input: Saturday February 23 1771\n",
      "Expected Output: 1771-02-23\n",
      "Predicted Output: <sos>1441-01-23<eos>\n"
     ]
    }
   ],
   "source": [
    "# see what the post training output looks like\n",
    "test_sample(learner, DatasetType.Valid, 27)"
   ]
  },
  {
   "cell_type": "markdown",
   "metadata": {
    "heading_collapsed": true
   },
   "source": [
    "### Define some helper functions to evaluate and visualize the model's output"
   ]
  },
  {
   "cell_type": "code",
   "execution_count": 17,
   "metadata": {
    "hidden": true
   },
   "outputs": [],
   "source": [
    "def make_predictions(learner, ds_type):\n",
    "    learner.model.eval()\n",
    "    dl = learner.data.dl(ds_type)\n",
    "    df = dl.dataset.df\n",
    "    preds = []\n",
    "    with torch.no_grad():\n",
    "        for xb, yb in progress_bar(dl):\n",
    "            _, pred_labels = learner.model.predict(xb['encode_text'])\n",
    "            pred_tokens = [decode_tensor(x, int_to_tok, strip_pad=True) for x in pred_labels]\n",
    "            preds += [''.join(pred) for pred in pred_tokens]\n",
    "        df['predicted'] = preds\n",
    "    return df\n",
    "\n",
    "\n",
    "def eval_df(df) -> float:\n",
    "    preds = df['predicted'].apply(lambda x: x.rstrip('<eos>').strip('<sos>'))\n",
    "    perfect = df['output'] == preds\n",
    "    df['correct'] = perfect\n",
    "    pct_perfect = perfect.mean()\n",
    "    return pct_perfect * 100\n",
    "\n",
    "\n",
    "def decode_text(learner, text: str):\n",
    "    encode_text = learner.data.valid_ds.get_tokens(text, 'pre').unsqueeze(0)\n",
    "    encode_text = encode_text.to(learner.data.device)\n",
    "    learner.model.eval()\n",
    "    with torch.no_grad():\n",
    "        _, pred_labels = learner.model.predict(encode_text)\n",
    "    tokens = decode_tensor(pred_labels[0], int_to_tok, strip_pad=True)\n",
    "    return ''.join(tokens)\n",
    "\n",
    "\n",
    "def display_prediction(learner, text: str):\n",
    "    pred = decode_text(learner, text)\n",
    "    html_str = '<hr>'\n",
    "    html_str += f'<font size=\"5\">{text} &rarr; {pred}</font>'\n",
    "    html_str += '<hr>'\n",
    "    display(HTML(html_str))"
   ]
  },
  {
   "cell_type": "markdown",
   "metadata": {},
   "source": [
    "### Visualize the output"
   ]
  },
  {
   "cell_type": "code",
   "execution_count": 18,
   "metadata": {},
   "outputs": [
    {
     "data": {
      "text/html": [
       "<hr><font size=\"5\">December 25 1991 &rarr; <sos>1991-11-29<eos></font><hr>"
      ],
      "text/plain": [
       "<IPython.core.display.HTML object>"
      ]
     },
     "metadata": {},
     "output_type": "display_data"
    }
   ],
   "source": [
    "display_prediction(learner, 'December 25 1991')"
   ]
  },
  {
   "cell_type": "code",
   "execution_count": 19,
   "metadata": {},
   "outputs": [
    {
     "data": {
      "text/html": [
       "\n",
       "    <div>\n",
       "        <style>\n",
       "            /* Turns off some styling */\n",
       "            progress {\n",
       "                /* gets rid of default border in Firefox and Opera. */\n",
       "                border: none;\n",
       "                /* Needs to be in here for Safari polyfill so background images work as expected. */\n",
       "                background-size: auto;\n",
       "            }\n",
       "            .progress-bar-interrupted, .progress-bar-interrupted::-webkit-progress-bar {\n",
       "                background: #F44336;\n",
       "            }\n",
       "        </style>\n",
       "      <progress value='391' class='' max='391', style='width:300px; height:20px; vertical-align: middle;'></progress>\n",
       "      100.00% [391/391 01:42<00:00]\n",
       "    </div>\n",
       "    "
      ],
      "text/plain": [
       "<IPython.core.display.HTML object>"
      ]
     },
     "metadata": {},
     "output_type": "display_data"
    },
    {
     "data": {
      "text/html": [
       "\n",
       "    <div>\n",
       "        <style>\n",
       "            /* Turns off some styling */\n",
       "            progress {\n",
       "                /* gets rid of default border in Firefox and Opera. */\n",
       "                border: none;\n",
       "                /* Needs to be in here for Safari polyfill so background images work as expected. */\n",
       "                background-size: auto;\n",
       "            }\n",
       "            .progress-bar-interrupted, .progress-bar-interrupted::-webkit-progress-bar {\n",
       "                background: #F44336;\n",
       "            }\n",
       "        </style>\n",
       "      <progress value='40' class='' max='40', style='width:300px; height:20px; vertical-align: middle;'></progress>\n",
       "      100.00% [40/40 00:11<00:00]\n",
       "    </div>\n",
       "    "
      ],
      "text/plain": [
       "<IPython.core.display.HTML object>"
      ]
     },
     "metadata": {},
     "output_type": "display_data"
    },
    {
     "data": {
      "text/html": [
       "\n",
       "    <div>\n",
       "        <style>\n",
       "            /* Turns off some styling */\n",
       "            progress {\n",
       "                /* gets rid of default border in Firefox and Opera. */\n",
       "                border: none;\n",
       "                /* Needs to be in here for Safari polyfill so background images work as expected. */\n",
       "                background-size: auto;\n",
       "            }\n",
       "            .progress-bar-interrupted, .progress-bar-interrupted::-webkit-progress-bar {\n",
       "                background: #F44336;\n",
       "            }\n",
       "        </style>\n",
       "      <progress value='40' class='' max='40', style='width:300px; height:20px; vertical-align: middle;'></progress>\n",
       "      100.00% [40/40 00:10<00:00]\n",
       "    </div>\n",
       "    "
      ],
      "text/plain": [
       "<IPython.core.display.HTML object>"
      ]
     },
     "metadata": {},
     "output_type": "display_data"
    }
   ],
   "source": [
    "train_df = make_predictions(learner, DatasetType.Fix)\n",
    "valid_df = make_predictions(learner, DatasetType.Valid)\n",
    "test_df = make_predictions(learner, DatasetType.Test)"
   ]
  },
  {
   "cell_type": "code",
   "execution_count": 20,
   "metadata": {},
   "outputs": [
    {
     "name": "stdout",
     "output_type": "stream",
     "text": [
      "** Perfect transcriptions **\n",
      "Train accuracy: 3.46%\n",
      "Valid accuracy: 3.23%\n",
      "Test accuracy: 3.68%\n"
     ]
    }
   ],
   "source": [
    "print('** Perfect transcriptions **')\n",
    "print(f'Train accuracy: {eval_df(train_df):0.2f}%')\n",
    "print(f'Valid accuracy: {eval_df(valid_df):0.2f}%')\n",
    "print(f'Test accuracy: {eval_df(test_df):0.2f}%')"
   ]
  },
  {
   "cell_type": "code",
   "execution_count": 21,
   "metadata": {},
   "outputs": [
    {
     "data": {
      "text/html": [
       "<div>\n",
       "<style scoped>\n",
       "    .dataframe tbody tr th:only-of-type {\n",
       "        vertical-align: middle;\n",
       "    }\n",
       "\n",
       "    .dataframe tbody tr th {\n",
       "        vertical-align: top;\n",
       "    }\n",
       "\n",
       "    .dataframe thead th {\n",
       "        text-align: right;\n",
       "    }\n",
       "</style>\n",
       "<table border=\"1\" class=\"dataframe\">\n",
       "  <thead>\n",
       "    <tr style=\"text-align: right;\">\n",
       "      <th></th>\n",
       "      <th>input</th>\n",
       "      <th>output</th>\n",
       "      <th>predicted</th>\n",
       "    </tr>\n",
       "  </thead>\n",
       "  <tbody>\n",
       "    <tr>\n",
       "      <th>6635</th>\n",
       "      <td>Oct 20, 1700</td>\n",
       "      <td>1700-10-20</td>\n",
       "      <td>&lt;sos&gt;1400-10-20&lt;eos&gt;</td>\n",
       "    </tr>\n",
       "    <tr>\n",
       "      <th>1522</th>\n",
       "      <td>7/17/1533</td>\n",
       "      <td>1533-07-17</td>\n",
       "      <td>&lt;sos&gt;1533-08-15&lt;eos&gt;</td>\n",
       "    </tr>\n",
       "    <tr>\n",
       "      <th>6019</th>\n",
       "      <td>Thursday January 21, 1644</td>\n",
       "      <td>1644-01-21</td>\n",
       "      <td>&lt;sos&gt;1444-01-21&lt;eos&gt;</td>\n",
       "    </tr>\n",
       "    <tr>\n",
       "      <th>5744</th>\n",
       "      <td>May 6, 17</td>\n",
       "      <td>1817-05-06</td>\n",
       "      <td>&lt;sos&gt;1916-03-06&lt;eos&gt;</td>\n",
       "    </tr>\n",
       "    <tr>\n",
       "      <th>6298</th>\n",
       "      <td>Feb 3 1865</td>\n",
       "      <td>1865-02-03</td>\n",
       "      <td>&lt;sos&gt;1465-03-03&lt;eos&gt;</td>\n",
       "    </tr>\n",
       "    <tr>\n",
       "      <th>1671</th>\n",
       "      <td>January 4, 1751</td>\n",
       "      <td>1751-01-04</td>\n",
       "      <td>&lt;sos&gt;1451-01-07&lt;eos&gt;</td>\n",
       "    </tr>\n",
       "    <tr>\n",
       "      <th>1711</th>\n",
       "      <td>May 24, 2078</td>\n",
       "      <td>2078-05-24</td>\n",
       "      <td>&lt;sos&gt;2048-03-27&lt;eos&gt;</td>\n",
       "    </tr>\n",
       "    <tr>\n",
       "      <th>5833</th>\n",
       "      <td>1448/7/1</td>\n",
       "      <td>1448-07-01</td>\n",
       "      <td>&lt;sos&gt;1445-04-01&lt;eos&gt;</td>\n",
       "    </tr>\n",
       "  </tbody>\n",
       "</table>\n",
       "</div>"
      ],
      "text/plain": [
       "                          input      output             predicted\n",
       "6635               Oct 20, 1700  1700-10-20  <sos>1400-10-20<eos>\n",
       "1522                  7/17/1533  1533-07-17  <sos>1533-08-15<eos>\n",
       "6019  Thursday January 21, 1644  1644-01-21  <sos>1444-01-21<eos>\n",
       "5744                  May 6, 17  1817-05-06  <sos>1916-03-06<eos>\n",
       "6298                 Feb 3 1865  1865-02-03  <sos>1465-03-03<eos>\n",
       "1671            January 4, 1751  1751-01-04  <sos>1451-01-07<eos>\n",
       "1711               May 24, 2078  2078-05-24  <sos>2048-03-27<eos>\n",
       "5833                   1448/7/1  1448-07-01  <sos>1445-04-01<eos>"
      ]
     },
     "execution_count": 21,
     "metadata": {},
     "output_type": "execute_result"
    }
   ],
   "source": [
    "valid_df.sample(8)[['input', 'output', 'predicted']]"
   ]
  },
  {
   "cell_type": "markdown",
   "metadata": {},
   "source": [
    "# 3. Seq2Seq w/ Luong Attention\n",
    "\n",
    "https://arxiv.org/pdf/1508.04025.pdf\n",
    "\n",
    "This is an implementation of Luong's attention. This is just one way of implementing attention. There are many methods, but this one requires the fewest number of parameters.\n",
    "\n",
    "![Luong Figure 2.](img/luong_attn.png)\n",
    "\n",
    "### Attention Motivation\n",
    "TLDR; A single fixed-length vector can not store an infinite amount of information.\n",
    "\n",
    "The challenge in vanilla Seq2Seq is that a lot of information is lost between the encoder and decoder. This is seen as a single fixed-length vector (the encoder's last hidden state) being passed to the decoder. This forces the decoder to translate the encoded message with degraded information.\n",
    "\n",
    "A better approach is to pass the entire encoded sequence to the decoder, guaranteeing no information loss. In practice this is seen as the sequence of hidden states from the encoder.\n",
    "\n",
    "The attention mechanism allows you to \"focus\" on a particular peice of context given a query. This is commonly seen in neural machine translation (NMT). In NMT, the \"context\" is set by the encoder.\n",
    "\n",
    "### Implementation:\n",
    "1. Encode the input text, you will get 1 vector for each step in the input. This tensor will have shape (batch, timesteps, dim)\n",
    "2. Keep all of the encoder's hidden states, call this $\\bar{H}$ where $\\bar{h}_t$ is the encoder's hidden state for time step $t$.\n",
    "4. Initialize the decoder's context state with zeros, $c_0$.\n",
    "5. Concatenate the decoder's input (starting with \"<sos\\>\") with $c_0$ and pass this to the decoder's rnn.\n",
    "6. Take the RNN's current hidden state, call this $h_t$, and dot it with each $\\bar{h}_t$. This will yield an attention score for each encoder timestep. Take the softmax across the scores and call this $a$. The values in $a$, $a_t$, are the amount of \"focus\" the decoder is putting on each timestep of the encoder.\n",
    "7. Take the sum of $\\bar{H}$ weighted by $a$. \n",
    "$$c_t=\\sum_{t}{a_t * \\bar{h}_t}$$\n",
    "This is the context vector, $c_t$, which tells your decoder what parts of the encoded sequence are important.\n",
    "8. Concat $c_t$ and $h_t$, and pass through a dense layer to make your prediction."
   ]
  },
  {
   "cell_type": "markdown",
   "metadata": {
    "heading_collapsed": true
   },
   "source": [
    "#### The attention mechanism"
   ]
  },
  {
   "cell_type": "code",
   "execution_count": 22,
   "metadata": {
    "hidden": true
   },
   "outputs": [],
   "source": [
    "def attention(\n",
    "        query: torch.Tensor,\n",
    "        key: torch.Tensor,\n",
    "        value: torch.Tensor = None,\n",
    "        mask: torch.Tensor = None,\n",
    "        dropout_rate: float = 0.0,\n",
    "        scale: bool = False,\n",
    "        training: bool = False,\n",
    "    ) -> Tuple[torch.Tensor]:\n",
    "    \"\"\"Compute attention weights and values.\n",
    "\n",
    "    A combination of the value tensor for each time step in query.\n",
    "\n",
    "    Attention weights are computed via dot product.\n",
    "\n",
    "    Parameters\n",
    "    ----------\n",
    "    query : torch.Tensor\n",
    "        shape (batch_size, Tq, dim)\n",
    "    key : torch.Tensor\n",
    "        shape (batch_size, Tv, dim)\n",
    "    value : torch.Tensor\n",
    "        shape (batch_size, Tv, dim), by default None will use `key` tensor\n",
    "    mask : torch.Tensor, optional\n",
    "        Shape must be broadcastable to (batch_size, Tq, Tv), by default None\n",
    "    dropout_rate: float, optional\n",
    "        apply dropout to attention scores before softmax, by default 0.0\n",
    "    scale : bool, optional\n",
    "        scale the attention scores by 1./sqrt(dim), by default False\n",
    "        Introduced in Eq. 1 Vaswani et al.\n",
    "    training: bool, optional\n",
    "        training or evaluation mode, set by passing `model.training`, by default False\n",
    "\n",
    "    Returns\n",
    "    -------\n",
    "    Tuple[torch.Tensor]\n",
    "        A linear combination of the value tensor for each time step in query.\n",
    "    \"\"\"\n",
    "    if value is None: value = key\n",
    "    B, Tq, dim = query.size()\n",
    "    Tv = value.size(1)\n",
    "    # Section 3.1 Global Attention -> \"dot\"\n",
    "    attn_scores = torch.bmm(query, torch.transpose(key, 1, 2))  #  (B, Tq, Tv)\n",
    "    attn_scores = F.dropout(attn_scores, dropout_rate, training, False)  # (B, Tq, Tv)\n",
    "    if scale:\n",
    "        attn_scores /= math.sqrt(dim)\n",
    "    if mask is not None:\n",
    "        attn_scores -= (mask * 1e9)\n",
    "    attn_weights = F.softmax(attn_scores, dim=-1)  #  Eq. 8, (B, Tq, Tv)\n",
    "    output = torch.bmm(attn_weights, value)  # (B, Tq, e)\n",
    "    return output, attn_weights"
   ]
  },
  {
   "cell_type": "markdown",
   "metadata": {},
   "source": [
    "### Seq2Seq w/ Luong Attention"
   ]
  },
  {
   "cell_type": "code",
   "execution_count": 23,
   "metadata": {},
   "outputs": [],
   "source": [
    "# Nothing changes on the encoder\n",
    "\n",
    "class AttnSequenceDecoder(nn.Module):\n",
    "    def __init__(self, tok_to_int: dict, scale: bool = False) -> None:\n",
    "        super().__init__()\n",
    "        self.vocab_size = len(tok_to_int)\n",
    "        self.hidden_size = _HIDDEN_SIZE\n",
    "        self.rnn_layers = _NUM_LAYERS\n",
    "        self.scale_attn = scale\n",
    "        self.embedding_layer = nn.Embedding(\n",
    "            self.vocab_size,\n",
    "            self.hidden_size,\n",
    "            padding_idx=0\n",
    "        )\n",
    "        self.rnn = _RNN_LAYER(\n",
    "            2*self.hidden_size,\n",
    "            self.hidden_size,\n",
    "            num_layers=self.rnn_layers,\n",
    "            batch_first = False\n",
    "        )\n",
    "        self.h_tilda = nn.Sequential(\n",
    "            nn.Linear(2 * self.hidden_size, self.hidden_size),\n",
    "            nn.Tanh()\n",
    "        )  # Eq. 5\n",
    "        self.densor = nn.Linear(self.hidden_size, self.vocab_size)  # Eq. 6, without the softmax\n",
    "\n",
    "    def apply_attention(self, X: torch.FloatTensor, encoder_output: torch.FloatTensor, encoder_mask: torch.Tensor):\n",
    "        encoder_output = torch.transpose(encoder_output, 0, 1)  # (B, Tv, e)\n",
    "        context, attn_weights = attention(\n",
    "            query=X,\n",
    "            key=encoder_output,\n",
    "            value=encoder_output,\n",
    "            mask=encoder_mask.unsqueeze(1),  # (B, 1, Tv)\n",
    "            dropout_rate=0.,\n",
    "            scale=self.scale_attn,\n",
    "            training=self.training\n",
    "        )  # (B, Tq, e), (B, Tq, Tv)\n",
    "        return context, attn_weights\n",
    "    \n",
    "    def forward_onestep(\n",
    "        self, \n",
    "        X: torch.LongTensor,\n",
    "        state: Tuple[torch.Tensor],\n",
    "        context: torch.FloatTensor, \n",
    "        encoder_output: torch.FloatTensor,\n",
    "        encoder_mask: torch.Tensor\n",
    "    ) -> Tuple[torch.Tensor]:\n",
    "        assert X.size(1) == 1\n",
    "        B = X.size(0)\n",
    "        emb = self.embedding_layer(X)  # (B, 1, e)\n",
    "        emb = torch.cat([emb, context], dim=2)  # (B, 1, 2e)\n",
    "        emb_t = torch.transpose(emb, 0, 1)  # (1, B, 2e)\n",
    "        emb_t, state = self.rnn(emb_t, state)  # (1, B, e)\n",
    "        emb = torch.transpose(emb_t, 0, 1)  # (B, 1, e)\n",
    "        context, attn_weights = self.apply_attention(emb, encoder_output, encoder_mask)  # (B, 1, e), (B, 1, Tv)\n",
    "        \n",
    "        # Figure 4, \"Attentional vectors h_tilda are fed as inputs to the next time steps\"\n",
    "        h = torch.cat([emb, context], dim=2)\n",
    "        next_context = self.h_tilda(h)  # (B, 1, e)\n",
    "        logit = self.densor(next_context)  # (B, 1, vocab_size)\n",
    "        log_prob = F.log_softmax(logit, dim=-1)\n",
    "        return log_prob, next_context, state, attn_weights\n",
    "\n",
    "    def forward(\n",
    "        self, \n",
    "        X: torch.LongTensor,\n",
    "        state: Tuple[torch.Tensor],\n",
    "        context: torch.FloatTensor, \n",
    "        encoder_output: torch.FloatTensor,\n",
    "        encoder_mask: torch.Tensor\n",
    "    ) -> Tuple[torch.Tensor]:\n",
    "        \n",
    "        log_probs = []\n",
    "        attn_weights = []\n",
    "        for i in range(X.size(1)):\n",
    "            Xt = X[:, i:i+1]\n",
    "            log_prob, context, state, attn = self.forward_onestep(\n",
    "                Xt,\n",
    "                state,\n",
    "                context,\n",
    "                encoder_output,\n",
    "                encoder_mask\n",
    "            )\n",
    "            log_probs.append(log_prob)\n",
    "            attn_weights.append(attn)\n",
    "        log_probs = torch.cat(log_probs, dim=1)\n",
    "        attn_weights = torch.cat(attn_weights, dim=1)\n",
    "        return log_probs, state, attn_weights\n",
    "\n",
    "    def _init_hidden(self, batch_size: int) -> Tuple[torch.FloatTensor]:\n",
    "        h = torch.zeros(self.rnn_layers, batch_size, self.hidden_size)\n",
    "        if isinstance(self.rnn, nn.RNN):\n",
    "            return h.to(self.device)\n",
    "        c = torch.zeros(self.rnn_layers, batch_size, self.hidden_size)\n",
    "        return [h.to(self.device), c.to(self.device)]\n",
    "    \n",
    "    def _init_context(self, batch_size: int) -> torch.FloatTensor:\n",
    "        c = torch.zeros(batch_size, 1, self.hidden_size)\n",
    "        return c.to(self.device)\n",
    "\n",
    "    def get_mask(self, X):\n",
    "        return (X == 0).float()\n",
    "\n",
    "    @property\n",
    "    def device(self):\n",
    "        return list(self.parameters())[0].device\n",
    "\n",
    "\n",
    "class AttnSeq2Seq(nn.Module):\n",
    "    def __init__(self, tok_to_int: dict, scale: bool = False) -> None:\n",
    "        super().__init__()\n",
    "        self.tok_to_int = tok_to_int\n",
    "        self.encoder = SequenceEncoder(tok_to_int)\n",
    "        self.decoder = AttnSequenceDecoder(tok_to_int, scale)\n",
    "\n",
    "    def forward(self, X: dict):\n",
    "        teacher_force = random.random() < 0.5\n",
    "        if teacher_force:\n",
    "            B = X['encode_text'].size(0)\n",
    "            encoder_mask = self.encoder.get_mask(X['encode_text'])\n",
    "            encoder_out, encoder_state = self.encoder(X['encode_text'])\n",
    "            state, context = self.decoder._init_hidden(B), self.decoder._init_context(B)\n",
    "            log_prob, decoder_state, attn_weights = self.decoder(\n",
    "                X['decode_text'], state, context, encoder_out, encoder_mask\n",
    "            )  # (B, T, e), ...\n",
    "        else:\n",
    "            log_prob, decoder_text, attn_weights = self.predict(X['encode_text'])\n",
    "        return log_prob.view(-1, self.decoder.vocab_size)\n",
    "\n",
    "    def predict(self, encode_text):\n",
    "        B, Tv = encode_text.size(0), encode_text.size(1)\n",
    "        encoder_out, encoder_state = self.encoder(encode_text)\n",
    "        encoder_mask = self.encoder.get_mask(encode_text)\n",
    "        decoder_text = self._init_decode_text(B)\n",
    "        state, context = self.decoder._init_hidden(B), self.decoder._init_context(B)\n",
    "        log_probs = []  # keep track of log probs for each timestep\n",
    "        attn_weights = [torch.zeros(B, 1, Tv).to(self.device)]  # keep track of the attn weights for each timestep\n",
    "        for i in range(_MAXLEN - 1):\n",
    "            Xt = decoder_text[:, i:i+1]\n",
    "            log_prob, context, state, attn = self.decoder.forward_onestep(\n",
    "                Xt, state, context, encoder_out, encoder_mask\n",
    "            )  # (B, 1, vocab_size), ...\n",
    "            log_probs.append(log_prob)\n",
    "            attn_weights.append(attn)\n",
    "            token_pred = log_prob.argmax(dim=-1)  # (B, 1)\n",
    "            decoder_text = torch.cat([decoder_text, token_pred], dim=1)\n",
    "        attn_weights = torch.cat(attn_weights, dim=1)  # (B, T, T)\n",
    "        log_probs = torch.cat(log_probs, dim=1)  # (B, T, e), log probs for each time step\n",
    "        return log_probs, decoder_text, attn_weights\n",
    "\n",
    "    def _predict_one_step(self, decoder_text, state, encoder_output, encoder_mask):\n",
    "        assert decoder_text.size(1) == 1\n",
    "        decoder_out, decoder_state, attn_weights = self.decoder(decoder_text, state, encoder_output, encoder_mask)\n",
    "        return decoder_out, decoder_state, attn_weights\n",
    "\n",
    "    def _init_decode_text(self, batch_size: int) -> torch.LongTensor:\n",
    "        sos = torch.zeros(batch_size, 1, dtype=torch.int64).to(self.decoder.device)\n",
    "        sos += 2\n",
    "        return sos\n",
    "    \n",
    "    @property\n",
    "    def device(self):\n",
    "        return list(self.parameters())[0].device"
   ]
  },
  {
   "cell_type": "code",
   "execution_count": 24,
   "metadata": {},
   "outputs": [],
   "source": [
    "def test_sample(learner, ds_type, idx):\n",
    "    ds = learner.data.dl(ds_type).dataset\n",
    "    sample = ds.df.iloc[idx]\n",
    "    data = ds[idx]\n",
    "    xb, yb = learner.data.collate_fn([data])\n",
    "    xb = {k: v.to(learner.data.device) for k, v in xb.items()}\n",
    "    with torch.no_grad():\n",
    "        log_prob, pred_labels, attn = learner.model.predict(xb['encode_text'])\n",
    "        attn = attn[0]\n",
    "    toks = decode_tensor(pred_labels[0], int_to_tok, strip_pad=True)\n",
    "    decoded = ''.join(toks)\n",
    "    decode_text = decode_tensor(pred_labels[0], int_to_tok, strip_pad=True)\n",
    "    encode_text = decode_tensor(xb['encode_text'][0], int_to_tok, strip_pad=True)\n",
    "    imshow_attn(attn, encode_text, decode_text)\n",
    "    print('Input:', sample.input)\n",
    "    print('Expected Output:', sample.output)\n",
    "    print('Predicted Output:', decoded)\n",
    "    return attn\n",
    "\n",
    "def imshow_attn(attn: torch.FloatTensor, encode_text, decode_text):\n",
    "    ne, nd = len(encode_text), len(decode_text)\n",
    "    attn_vals = attn.cpu().numpy()[0:nd, -ne:].T\n",
    "    plt.imshow(attn_vals, cmap='gray', vmin=0., vmax=1.)\n",
    "    plt.colorbar()\n",
    "    plt.yticks(np.arange(len(encode_text)), encode_text)\n",
    "    plt.xticks(np.arange(len(decode_text)), decode_text, rotation=45)\n",
    "    plt.xlabel('Output Text')\n",
    "    plt.ylabel('Input text')\n",
    "    plt.show()"
   ]
  },
  {
   "cell_type": "markdown",
   "metadata": {
    "heading_collapsed": true
   },
   "source": [
    "## Train the seq2seq w/ attention model"
   ]
  },
  {
   "cell_type": "code",
   "execution_count": 25,
   "metadata": {
    "hidden": true
   },
   "outputs": [],
   "source": [
    "model = AttnSeq2Seq(tok_to_int, scale=False).to(data.device)\n",
    "learner = Learner(data, model, loss_func=nn.NLLLoss(), opt_func=optim.Adam, metrics=[accuracy])"
   ]
  },
  {
   "cell_type": "code",
   "execution_count": 26,
   "metadata": {
    "hidden": true
   },
   "outputs": [
    {
     "data": {
      "image/png": "[encoded data removed]",
      "text/plain": [
       "<Figure size 432x576 with 2 Axes>"
      ]
     },
     "metadata": {
      "needs_background": "light"
     },
     "output_type": "display_data"
    },
    {
     "name": "stdout",
     "output_type": "stream",
     "text": [
      "Input: Saturday February 23 1771\n",
      "Expected Output: 1771-02-23\n",
      "Predicted Output: <sos>jjjjjjjjjjjjjjjjjjjjjjjjjjjjjjj\n"
     ]
    }
   ],
   "source": [
    "# see what the initial output and attention values look like\n",
    "attn = test_sample(learner, DatasetType.Valid, 27)"
   ]
  },
  {
   "cell_type": "code",
   "execution_count": 27,
   "metadata": {
    "hidden": true
   },
   "outputs": [
    {
     "data": {
      "text/html": [
       "\n",
       "    <div>\n",
       "        <style>\n",
       "            /* Turns off some styling */\n",
       "            progress {\n",
       "                /* gets rid of default border in Firefox and Opera. */\n",
       "                border: none;\n",
       "                /* Needs to be in here for Safari polyfill so background images work as expected. */\n",
       "                background-size: auto;\n",
       "            }\n",
       "            .progress-bar-interrupted, .progress-bar-interrupted::-webkit-progress-bar {\n",
       "                background: #F44336;\n",
       "            }\n",
       "        </style>\n",
       "      <progress value='0' class='' max='1', style='width:300px; height:20px; vertical-align: middle;'></progress>\n",
       "      0.00% [0/1 00:00<00:00]\n",
       "    </div>\n",
       "    \n",
       "<table border=\"1\" class=\"dataframe\">\n",
       "  <thead>\n",
       "    <tr style=\"text-align: left;\">\n",
       "      <th>epoch</th>\n",
       "      <th>train_loss</th>\n",
       "      <th>valid_loss</th>\n",
       "      <th>accuracy</th>\n",
       "      <th>time</th>\n",
       "    </tr>\n",
       "  </thead>\n",
       "  <tbody>\n",
       "  </tbody>\n",
       "</table><p>\n",
       "\n",
       "    <div>\n",
       "        <style>\n",
       "            /* Turns off some styling */\n",
       "            progress {\n",
       "                /* gets rid of default border in Firefox and Opera. */\n",
       "                border: none;\n",
       "                /* Needs to be in here for Safari polyfill so background images work as expected. */\n",
       "                background-size: auto;\n",
       "            }\n",
       "            .progress-bar-interrupted, .progress-bar-interrupted::-webkit-progress-bar {\n",
       "                background: #F44336;\n",
       "            }\n",
       "        </style>\n",
       "      <progress value='93' class='' max='390', style='width:300px; height:20px; vertical-align: middle;'></progress>\n",
       "      23.85% [93/390 00:06<00:21 8.5630]\n",
       "    </div>\n",
       "    "
      ],
      "text/plain": [
       "<IPython.core.display.HTML object>"
      ]
     },
     "metadata": {},
     "output_type": "display_data"
    },
    {
     "name": "stdout",
     "output_type": "stream",
     "text": [
      "LR Finder is complete, type {learner_name}.recorder.plot() to see the graph.\n"
     ]
    },
    {
     "data": {
      "image/png": "[encoded data removed]",
      "text/plain": [
       "<Figure size 432x576 with 1 Axes>"
      ]
     },
     "metadata": {
      "needs_background": "light"
     },
     "output_type": "display_data"
    }
   ],
   "source": [
    "learner.lr_find()\n",
    "learner.recorder.plot()"
   ]
  },
  {
   "cell_type": "code",
   "execution_count": 28,
   "metadata": {
    "hidden": true
   },
   "outputs": [
    {
     "data": {
      "text/html": [
       "<table border=\"1\" class=\"dataframe\">\n",
       "  <thead>\n",
       "    <tr style=\"text-align: left;\">\n",
       "      <th>epoch</th>\n",
       "      <th>train_loss</th>\n",
       "      <th>valid_loss</th>\n",
       "      <th>accuracy</th>\n",
       "      <th>time</th>\n",
       "    </tr>\n",
       "  </thead>\n",
       "  <tbody>\n",
       "    <tr>\n",
       "      <td>0</td>\n",
       "      <td>0.524189</td>\n",
       "      <td>0.455133</td>\n",
       "      <td>0.826177</td>\n",
       "      <td>00:28</td>\n",
       "    </tr>\n",
       "    <tr>\n",
       "      <td>1</td>\n",
       "      <td>0.424146</td>\n",
       "      <td>0.422143</td>\n",
       "      <td>0.828610</td>\n",
       "      <td>00:27</td>\n",
       "    </tr>\n",
       "  </tbody>\n",
       "</table>"
      ],
      "text/plain": [
       "<IPython.core.display.HTML object>"
      ]
     },
     "metadata": {},
     "output_type": "display_data"
    },
    {
     "data": {
      "text/html": [
       "<table border=\"1\" class=\"dataframe\">\n",
       "  <thead>\n",
       "    <tr style=\"text-align: left;\">\n",
       "      <th>epoch</th>\n",
       "      <th>train_loss</th>\n",
       "      <th>valid_loss</th>\n",
       "      <th>accuracy</th>\n",
       "      <th>time</th>\n",
       "    </tr>\n",
       "  </thead>\n",
       "  <tbody>\n",
       "    <tr>\n",
       "      <td>0</td>\n",
       "      <td>0.401535</td>\n",
       "      <td>0.399873</td>\n",
       "      <td>0.834929</td>\n",
       "      <td>00:27</td>\n",
       "    </tr>\n",
       "    <tr>\n",
       "      <td>1</td>\n",
       "      <td>0.355007</td>\n",
       "      <td>0.348812</td>\n",
       "      <td>0.848045</td>\n",
       "      <td>00:27</td>\n",
       "    </tr>\n",
       "    <tr>\n",
       "      <td>2</td>\n",
       "      <td>0.306041</td>\n",
       "      <td>0.297662</td>\n",
       "      <td>0.880803</td>\n",
       "      <td>00:27</td>\n",
       "    </tr>\n",
       "    <tr>\n",
       "      <td>3</td>\n",
       "      <td>0.227135</td>\n",
       "      <td>0.214975</td>\n",
       "      <td>0.921690</td>\n",
       "      <td>00:27</td>\n",
       "    </tr>\n",
       "    <tr>\n",
       "      <td>4</td>\n",
       "      <td>0.121401</td>\n",
       "      <td>0.106299</td>\n",
       "      <td>0.976655</td>\n",
       "      <td>00:28</td>\n",
       "    </tr>\n",
       "  </tbody>\n",
       "</table>"
      ],
      "text/plain": [
       "<IPython.core.display.HTML object>"
      ]
     },
     "metadata": {},
     "output_type": "display_data"
    }
   ],
   "source": [
    "learner.fit_one_cycle(2, 1e-2)\n",
    "learner.fit(5, 1e-3)"
   ]
  },
  {
   "cell_type": "code",
   "execution_count": 29,
   "metadata": {
    "hidden": true
   },
   "outputs": [
    {
     "data": {
      "image/png": "[encoded data removed]",
      "text/plain": [
       "<Figure size 432x576 with 2 Axes>"
      ]
     },
     "metadata": {
      "needs_background": "light"
     },
     "output_type": "display_data"
    },
    {
     "name": "stdout",
     "output_type": "stream",
     "text": [
      "Input: Saturday February 23 1771\n",
      "Expected Output: 1771-02-23\n",
      "Predicted Output: <sos>1771-02-23<eos>\n"
     ]
    }
   ],
   "source": [
    "# see what the post training output looks like\n",
    "attn = test_sample(learner, DatasetType.Valid, 27)"
   ]
  },
  {
   "cell_type": "markdown",
   "metadata": {
    "hidden": true
   },
   "source": [
    "### Visualize some output"
   ]
  },
  {
   "cell_type": "code",
   "execution_count": 38,
   "metadata": {
    "hidden": true
   },
   "outputs": [],
   "source": [
    "def make_predictions_attn(learner, ds_type):\n",
    "    learner.model.eval()\n",
    "    dl = learner.data.dl(ds_type)\n",
    "    df = dl.dataset.df\n",
    "    preds = []\n",
    "    with torch.no_grad():\n",
    "        for xb, yb in progress_bar(dl):\n",
    "            _, pred_labels, _ = learner.model.predict(xb['encode_text'])\n",
    "            pred_tokens = [decode_tensor(x, int_to_tok, strip_pad=True) for x in pred_labels]\n",
    "            preds += [''.join(pred) for pred in pred_tokens]\n",
    "        df['predicted_w_attn'] = preds\n",
    "    return df\n",
    "\n",
    "def eval_df(df) -> float:\n",
    "    preds = df['predicted_w_attn'].apply(lambda x: x.rstrip('<eos>').strip('<sos>'))\n",
    "    perfect = df['output'] == preds\n",
    "    df['correct'] = perfect\n",
    "    pct_perfect = perfect.mean()\n",
    "    return pct_perfect * 100\n",
    "\n",
    "def decode_text(learner, text: str):\n",
    "    encode_text = learner.data.valid_ds.get_tokens(text, 'pre').unsqueeze(0)\n",
    "    encode_text = encode_text.to(learner.data.device)\n",
    "    learner.model.eval()\n",
    "    with torch.no_grad():\n",
    "        log_probs, pred_labels, attn = learner.model.predict(encode_text)\n",
    "        attn = attn[0]\n",
    "        pred_labels = pred_labels[0]\n",
    "    toks = decode_tensor(pred_labels, int_to_tok, strip_pad=True)\n",
    "    decoded = ''.join(toks)\n",
    "    decode_text = decode_tensor(pred_labels, int_to_tok, strip_pad=True)\n",
    "    encode_text = decode_tensor(encode_text[0], int_to_tok, strip_pad=True)\n",
    "    imshow_attn(attn, encode_text, decode_text)\n",
    "    tokens = decode_tensor(pred_labels, int_to_tok, strip_pad=True)\n",
    "    return ''.join(tokens)\n",
    "\n",
    "\n",
    "def display_prediction(learner, text: str):\n",
    "    pred = decode_text(learner, text)\n",
    "    html_str = '<hr>'\n",
    "    html_str += f'<font size=\"5\">{text} &rarr; {pred}</font>'\n",
    "    html_str += '<hr>'\n",
    "    display(HTML(html_str))"
   ]
  },
  {
   "cell_type": "code",
   "execution_count": 36,
   "metadata": {
    "hidden": true
   },
   "outputs": [
    {
     "data": {
      "text/html": [
       "\n",
       "    <div>\n",
       "        <style>\n",
       "            /* Turns off some styling */\n",
       "            progress {\n",
       "                /* gets rid of default border in Firefox and Opera. */\n",
       "                border: none;\n",
       "                /* Needs to be in here for Safari polyfill so background images work as expected. */\n",
       "                background-size: auto;\n",
       "            }\n",
       "            .progress-bar-interrupted, .progress-bar-interrupted::-webkit-progress-bar {\n",
       "                background: #F44336;\n",
       "            }\n",
       "        </style>\n",
       "      <progress value='391' class='' max='391', style='width:300px; height:20px; vertical-align: middle;'></progress>\n",
       "      100.00% [391/391 01:45<00:00]\n",
       "    </div>\n",
       "    "
      ],
      "text/plain": [
       "<IPython.core.display.HTML object>"
      ]
     },
     "metadata": {},
     "output_type": "display_data"
    },
    {
     "data": {
      "text/html": [
       "\n",
       "    <div>\n",
       "        <style>\n",
       "            /* Turns off some styling */\n",
       "            progress {\n",
       "                /* gets rid of default border in Firefox and Opera. */\n",
       "                border: none;\n",
       "                /* Needs to be in here for Safari polyfill so background images work as expected. */\n",
       "                background-size: auto;\n",
       "            }\n",
       "            .progress-bar-interrupted, .progress-bar-interrupted::-webkit-progress-bar {\n",
       "                background: #F44336;\n",
       "            }\n",
       "        </style>\n",
       "      <progress value='40' class='' max='40', style='width:300px; height:20px; vertical-align: middle;'></progress>\n",
       "      100.00% [40/40 00:11<00:00]\n",
       "    </div>\n",
       "    "
      ],
      "text/plain": [
       "<IPython.core.display.HTML object>"
      ]
     },
     "metadata": {},
     "output_type": "display_data"
    },
    {
     "data": {
      "text/html": [
       "\n",
       "    <div>\n",
       "        <style>\n",
       "            /* Turns off some styling */\n",
       "            progress {\n",
       "                /* gets rid of default border in Firefox and Opera. */\n",
       "                border: none;\n",
       "                /* Needs to be in here for Safari polyfill so background images work as expected. */\n",
       "                background-size: auto;\n",
       "            }\n",
       "            .progress-bar-interrupted, .progress-bar-interrupted::-webkit-progress-bar {\n",
       "                background: #F44336;\n",
       "            }\n",
       "        </style>\n",
       "      <progress value='40' class='' max='40', style='width:300px; height:20px; vertical-align: middle;'></progress>\n",
       "      100.00% [40/40 00:11<00:00]\n",
       "    </div>\n",
       "    "
      ],
      "text/plain": [
       "<IPython.core.display.HTML object>"
      ]
     },
     "metadata": {},
     "output_type": "display_data"
    }
   ],
   "source": [
    "train_df = make_predictions_attn(learner, DatasetType.Fix)\n",
    "valid_df = make_predictions_attn(learner, DatasetType.Valid)\n",
    "test_df = make_predictions_attn(learner, DatasetType.Test)"
   ]
  },
  {
   "cell_type": "code",
   "execution_count": 39,
   "metadata": {
    "hidden": true
   },
   "outputs": [
    {
     "name": "stdout",
     "output_type": "stream",
     "text": [
      "** Perfect transcriptions **\n",
      "Train accuracy: 47.42%\n",
      "Valid accuracy: 48.32%\n",
      "Test accuracy: 47.96%\n"
     ]
    }
   ],
   "source": [
    "print('** Perfect transcriptions **')\n",
    "print(f'Train accuracy: {eval_df(train_df):0.2f}%')\n",
    "print(f'Valid accuracy: {eval_df(valid_df):0.2f}%')\n",
    "print(f'Test accuracy: {eval_df(test_df):0.2f}%')"
   ]
  },
  {
   "cell_type": "code",
   "execution_count": 41,
   "metadata": {
    "hidden": true
   },
   "outputs": [
    {
     "data": {
      "text/html": [
       "<div>\n",
       "<style scoped>\n",
       "    .dataframe tbody tr th:only-of-type {\n",
       "        vertical-align: middle;\n",
       "    }\n",
       "\n",
       "    .dataframe tbody tr th {\n",
       "        vertical-align: top;\n",
       "    }\n",
       "\n",
       "    .dataframe thead th {\n",
       "        text-align: right;\n",
       "    }\n",
       "</style>\n",
       "<table border=\"1\" class=\"dataframe\">\n",
       "  <thead>\n",
       "    <tr style=\"text-align: right;\">\n",
       "      <th></th>\n",
       "      <th>input</th>\n",
       "      <th>output</th>\n",
       "      <th>predicted</th>\n",
       "      <th>predicted_w_attn</th>\n",
       "    </tr>\n",
       "  </thead>\n",
       "  <tbody>\n",
       "    <tr>\n",
       "      <th>9191</th>\n",
       "      <td>Nov 1, 31</td>\n",
       "      <td>1731-11-01</td>\n",
       "      <td>&lt;sos&gt;1411-11-01&lt;eos&gt;</td>\n",
       "      <td>&lt;sos&gt;1531-11-01&lt;eos&gt;</td>\n",
       "    </tr>\n",
       "    <tr>\n",
       "      <th>6457</th>\n",
       "      <td>1513/7/16</td>\n",
       "      <td>1513-07-16</td>\n",
       "      <td>&lt;sos&gt;1913-04-17&lt;eos&gt;</td>\n",
       "      <td>&lt;sos&gt;1513-07-16&lt;eos&gt;</td>\n",
       "    </tr>\n",
       "    <tr>\n",
       "      <th>3771</th>\n",
       "      <td>June 25 1958</td>\n",
       "      <td>1958-06-25</td>\n",
       "      <td>&lt;sos&gt;1955-04-27&lt;eos&gt;</td>\n",
       "      <td>&lt;sos&gt;1958-06-25&lt;eos&gt;</td>\n",
       "    </tr>\n",
       "    <tr>\n",
       "      <th>1457</th>\n",
       "      <td>January 21 1818</td>\n",
       "      <td>1818-01-21</td>\n",
       "      <td>&lt;sos&gt;1418-01-21&lt;eos&gt;</td>\n",
       "      <td>&lt;sos&gt;1818-01-21&lt;eos&gt;</td>\n",
       "    </tr>\n",
       "    <tr>\n",
       "      <th>9642</th>\n",
       "      <td>Saturday May 11, 1422</td>\n",
       "      <td>1422-05-11</td>\n",
       "      <td>&lt;sos&gt;1422-03-13&lt;eos&gt;</td>\n",
       "      <td>&lt;sos&gt;1622-05-11&lt;eos&gt;</td>\n",
       "    </tr>\n",
       "    <tr>\n",
       "      <th>5974</th>\n",
       "      <td>12-22-1663</td>\n",
       "      <td>1663-12-22</td>\n",
       "      <td>&lt;sos&gt;1443-01-22&lt;eos&gt;</td>\n",
       "      <td>&lt;sos&gt;2063-12-22&lt;eos&gt;</td>\n",
       "    </tr>\n",
       "    <tr>\n",
       "      <th>7800</th>\n",
       "      <td>19-4-1761</td>\n",
       "      <td>1761-04-19</td>\n",
       "      <td>&lt;sos&gt;1441-04-15&lt;eos&gt;</td>\n",
       "      <td>&lt;sos&gt;1761-04-19&lt;eos&gt;</td>\n",
       "    </tr>\n",
       "    <tr>\n",
       "      <th>1140</th>\n",
       "      <td>June 26, 2071</td>\n",
       "      <td>2071-06-26</td>\n",
       "      <td>&lt;sos&gt;2041-09-29&lt;eos&gt;</td>\n",
       "      <td>&lt;sos&gt;2071-06-26&lt;eos&gt;</td>\n",
       "    </tr>\n",
       "  </tbody>\n",
       "</table>\n",
       "</div>"
      ],
      "text/plain": [
       "                      input      output             predicted  \\\n",
       "9191              Nov 1, 31  1731-11-01  <sos>1411-11-01<eos>   \n",
       "6457              1513/7/16  1513-07-16  <sos>1913-04-17<eos>   \n",
       "3771           June 25 1958  1958-06-25  <sos>1955-04-27<eos>   \n",
       "1457        January 21 1818  1818-01-21  <sos>1418-01-21<eos>   \n",
       "9642  Saturday May 11, 1422  1422-05-11  <sos>1422-03-13<eos>   \n",
       "5974             12-22-1663  1663-12-22  <sos>1443-01-22<eos>   \n",
       "7800              19-4-1761  1761-04-19  <sos>1441-04-15<eos>   \n",
       "1140          June 26, 2071  2071-06-26  <sos>2041-09-29<eos>   \n",
       "\n",
       "          predicted_w_attn  \n",
       "9191  <sos>1531-11-01<eos>  \n",
       "6457  <sos>1513-07-16<eos>  \n",
       "3771  <sos>1958-06-25<eos>  \n",
       "1457  <sos>1818-01-21<eos>  \n",
       "9642  <sos>1622-05-11<eos>  \n",
       "5974  <sos>2063-12-22<eos>  \n",
       "7800  <sos>1761-04-19<eos>  \n",
       "1140  <sos>2071-06-26<eos>  "
      ]
     },
     "execution_count": 41,
     "metadata": {},
     "output_type": "execute_result"
    }
   ],
   "source": [
    "valid_df.sample(8)[['input', 'output', 'predicted', 'predicted_w_attn']]"
   ]
  },
  {
   "cell_type": "code",
   "execution_count": 31,
   "metadata": {
    "hidden": true
   },
   "outputs": [
    {
     "data": {
      "image/png": "[encoded data removed]",
      "text/plain": [
       "<Figure size 432x576 with 2 Axes>"
      ]
     },
     "metadata": {
      "needs_background": "light"
     },
     "output_type": "display_data"
    },
    {
     "data": {
      "text/html": [
       "<hr><font size=\"5\">December 25 1991 &rarr; <sos>1991-12-25<eos></font><hr>"
      ],
      "text/plain": [
       "<IPython.core.display.HTML object>"
      ]
     },
     "metadata": {},
     "output_type": "display_data"
    }
   ],
   "source": [
    "display_prediction(learner, 'December 25 1991')"
   ]
  },
  {
   "cell_type": "code",
   "execution_count": 32,
   "metadata": {
    "hidden": true
   },
   "outputs": [
    {
     "data": {
      "image/png": "[encoded data removed]",
      "text/plain": [
       "<Figure size 432x576 with 2 Axes>"
      ]
     },
     "metadata": {
      "needs_background": "light"
     },
     "output_type": "display_data"
    },
    {
     "data": {
      "text/html": [
       "<hr><font size=\"5\">december 25 1991 &rarr; <sos>1991-12-25<eos></font><hr>"
      ],
      "text/plain": [
       "<IPython.core.display.HTML object>"
      ]
     },
     "metadata": {},
     "output_type": "display_data"
    }
   ],
   "source": [
    "display_prediction(learner, 'december 25 1991')"
   ]
  },
  {
   "cell_type": "markdown",
   "metadata": {},
   "source": [
    "## 4. Attention Freestyle Notes\n",
    "\n",
    "There are many ways to implement an attention mechanism, but they all have one thing in common. Each maps a query vector and a set of key vectors to a softmax over some combination of the query and key.\n",
    "\n",
    "A few popular ways of getting this softmax are Luong, Bahdanau, and mutliheaded.\n",
    "\n",
    "In the Luong implementation, attention is applied after the RNN, but you are not forced to do so. You may want to see what happens if you apply attention before the RNN layer.\n",
    "\n",
    "**Caution:** Since there are several valid ways to implement attention, there are a number of references that get it wrong. The most common mistake I have seen is a model's size scaling with the input/output sequence length."
   ]
  },
  {
   "cell_type": "code",
   "execution_count": null,
   "metadata": {},
   "outputs": [],
   "source": []
  }
 ],
 "metadata": {
  "kernelspec": {
   "display_name": "Python 3",
   "language": "python",
   "name": "python3"
  },
  "language_info": {
   "codemirror_mode": {
    "name": "ipython",
    "version": 3
   },
   "file_extension": ".py",
   "mimetype": "text/x-python",
   "name": "python",
   "nbconvert_exporter": "python",
   "pygments_lexer": "ipython3",
   "version": "3.7.6"
  }
 },
 "nbformat": 4,
 "nbformat_minor": 4
}
